{
 "cells": [
  {
   "cell_type": "code",
   "execution_count": 2,
   "metadata": {},
   "outputs": [
    {
     "name": "stdout",
     "output_type": "stream",
     "text": [
      "4\n"
     ]
    }
   ],
   "source": [
    "n = int(input())\n",
    "\n",
    "for _ in range(n):\n",
    "    inp = input()\n",
    "    if inp == \"P=NP\":\n",
    "        print(\"skipped\")\n",
    "        continue\n",
    "    a, b = inp.split(\"+\")\n",
    "\n",
    "    a = int(a)\n",
    "    b = int(b)\n",
    "    print(a + b)"
   ]
  }
 ],
 "metadata": {
  "kernelspec": {
   "display_name": "Python 3.10.8 64-bit",
   "language": "python",
   "name": "python3"
  },
  "language_info": {
   "codemirror_mode": {
    "name": "ipython",
    "version": 3
   },
   "file_extension": ".py",
   "mimetype": "text/x-python",
   "name": "python",
   "nbconvert_exporter": "python",
   "pygments_lexer": "ipython3",
   "version": "3.10.8"
  },
  "orig_nbformat": 4,
  "vscode": {
   "interpreter": {
    "hash": "c17b67eb060c83cbfa0e86e30625c301dd975b1f32d4a5bee1e6651f6805f4ec"
   }
  }
 },
 "nbformat": 4,
 "nbformat_minor": 2
}
