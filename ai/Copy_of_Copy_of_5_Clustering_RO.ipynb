{
  "cells": [
    {
      "cell_type": "markdown",
      "metadata": {
        "id": "xpnUoWGD2M2H"
      },
      "source": [
        " <img src = 'https://drive.google.com/uc?id=1cPtoRUIVZ2jWaiIl8z1fm4R4V3kwQfZh\n",
        "' width=\"170\" height=\"190\" align = \"left\">\n",
        "# <font color = \"green\" > <b>Obiective</b></font> \n",
        "\n",
        "---\n",
        "\n",
        "\n",
        "Prin parcurgerea acestui capitol veți învăța:\n",
        "*   ce înseamnă clusterizare (gruparea datelor în clustere)\n",
        "*   când folosim tehnici de clusterizare\n",
        "*   cum realizăm clusterizarea (algoritmi de clusterizare)\n",
        "*   care sunt elementele cheie care duc la performanțe mai bune în algoritmii de clusterizare"
      ]
    },
    {
      "cell_type": "markdown",
      "metadata": {
        "id": "JadlY2LgdNUz"
      },
      "source": [
        "\n",
        "\n",
        " |  |\n",
        " |---------|\n",
        " |<img src='https://drive.google.com/uc?id=1HV8Tdtn20fD2wdlz1hXrFRvgyQ-ZATIv' width=\"550\" ><figcaption align = \"center\"> |"
      ]
    },
    {
      "cell_type": "markdown",
      "metadata": {
        "id": "ZjLgUWhI_S75"
      },
      "source": [
        "#Introducere\n",
        "Structura acestui capitol este următoarea:\n",
        "*   o vederea de ansamblu asupra învățării nesupervizate\n",
        "*   tehnici de clusterizare\n",
        "*   ***k-means***, algoritm de partiționare a datelor în clustere\n",
        "  \n",
        "La finalul acestui capitol, elevii ar trebui sa înțeleagă algoritmul de clusterizare prezentat și să conștientizeze potențialul clusterizării în cadrul învățarii nesupervizate.\n",
        "\n",
        "Începem prin a ne pune întrebarea care este obiectivul grupării în clustere (grupuri/ mulțimi).\n",
        "\n",
        "Clusterizarea aparține metodelor de învățare nesupervizate, învățare în care avem acces la un set de observații (de exemplu, imagini, text) fără informații suplimentare. Scopul învățării nesupervizate este de a descoperi structura datelor. De exemplu, in cazul modelelor generative (care aparțin categoriei de învățăre nesupervizata), algoritmul trebuie să producă noi seturi de date similare cu cele observate. Mai precis, dacă datele provin dintr-un un set de imagini, se cere generarea unor imagini noi, care să fie similare celor date initial. \n",
        "\n",
        "Clusterizarea, pe de altă parte, se concentrează pe găsirea modului în care datele pot fi grupate pe baza structurii și a asemănărilor dintre ele. \n"
      ]
    },
    {
      "cell_type": "markdown",
      "metadata": {
        "id": "4SmHZKeoqe53"
      },
      "source": [
        "##Instalare packages"
      ]
    },
    {
      "cell_type": "code",
      "execution_count": 1,
      "metadata": {
        "colab": {
          "base_uri": "https://localhost:8080/"
        },
        "id": "1Jjom_FKagyj",
        "outputId": "72ca17a3-85eb-4d4b-a4c2-328158fd6a50"
      },
      "outputs": [
        {
          "name": "stdout",
          "output_type": "stream",
          "text": [
            "\u001b[31mERROR: (Gentoo) Please run pip with the --user option to avoid breaking python-exec\u001b[0m\u001b[31m\n",
            "\u001b[0m"
          ]
        }
      ],
      "source": [
        "#Instalare packages\n",
        "! pip install ipyplot\n"
      ]
    },
    {
      "cell_type": "markdown",
      "metadata": {
        "id": "IRsAabZNqo59"
      },
      "source": [
        "## Bibliotecile ***numpy*** și ***matplotlib***"
      ]
    },
    {
      "cell_type": "code",
      "execution_count": null,
      "metadata": {
        "id": "U9e3KPsEbVNu"
      },
      "outputs": [],
      "source": [
        "#Import-uri\n",
        "%matplotlib inline \n",
        "\n",
        "# We import numpy, which is a scientific library for python.\n",
        "import numpy as np\n",
        "import math \n",
        "\n",
        "# We also import matplotlib, which is a useful plotting library for python.\n",
        "import matplotlib.pyplot as plt\n",
        "from matplotlib.offsetbox import OffsetImage, AnnotationBbox\n",
        "\n",
        "import IPython\n",
        "from IPython.display import display\n",
        "import imageio\n",
        "import base64\n",
        "import ipyplot\n",
        "import ipywidgets as widgets\n",
        "\n",
        "# \n",
        "import sklearn.datasets as dataset\n",
        "\n",
        "import glob\n",
        "import random\n",
        "\n",
        "from scipy.spatial import Voronoi, voronoi_plot_2d\n",
        "import warnings\n",
        "warnings.filterwarnings('ignore')"
      ]
    },
    {
      "cell_type": "markdown",
      "metadata": {
        "id": "BgDKerAFq0zy"
      },
      "source": [
        "##Definirea funcțiilor utile"
      ]
    },
    {
      "cell_type": "code",
      "execution_count": null,
      "metadata": {
        "id": "JleJeB3FbqbD"
      },
      "outputs": [],
      "source": [
        "#Funcții utile\n",
        "def generate_data(n_samples=20, n_feats=2):\n",
        "  \"\"\" Generates simulated data.\n",
        "\n",
        "  Args:\n",
        "      n_samples (int): observed students.\n",
        "      n_feats (int): number of features characterizing each student.\n",
        "      n_groups (int): number of groups (clusters).\n",
        "\n",
        "  Returns:\n",
        "      x (ndarray): the features (inputs).\n",
        "  \"\"\"\n",
        "  # We fix the seed to our random number generator to ensure that\n",
        "  # we always get the same psuedo-random number sequence.\n",
        "  np.random.seed(121)\n",
        "\n",
        "  # Sample features for n_samples students, distributed \n",
        "  # around n_groups centers.\n",
        "  x, _ = dataset.make_blobs(n_samples=n_samples-2, \n",
        "                            n_features=n_feats, \n",
        "                            centers=[[9,21],[9, 12],[20,15],[20,8]],\n",
        "                            cluster_std=[[2,1], [1,1], [2,1], [2,1]],\n",
        "                            center_box = (5, 25))\n",
        "  # add two extra students to better emphasize our findings\n",
        "  x = np.append(x, [[1, 5], [15, 1]], axis=0)\n",
        "  return x\n",
        "\n",
        "def generate_nonconvex_data(n_samples=20, n_feats=2):\n",
        "  \"\"\" Generates simulated data for a non-convex distribution of points.\n",
        "\n",
        "  Args:\n",
        "      n_samples (int): observed students.\n",
        "      n_feats (int): number of features characterizing each student.\n",
        "      n_groups (int): number of groups (clusters).\n",
        "\n",
        "  Returns:\n",
        "      x (ndarray): the features (inputs).\n",
        "  \"\"\"\n",
        "  # We fix the seed to our random number generator to ensure that\n",
        "  # we always get the same psuedo-random number sequence.\n",
        "  np.random.seed(121)\n",
        "\n",
        "  # Sample features for n_samples students\n",
        "  x, _ = dataset.make_moons(n_samples=n_samples)\n",
        "  return 5.0 * x + 7.0\n",
        "\n",
        "def getImage(path):\n",
        "    return OffsetImage(plt.imread(path), zoom=0.05)\n",
        "\n",
        "def plot_data(data):\n",
        "  \"\"\"Plots the input features from our dataset.\n",
        "  Args:\n",
        "      data (ndarray): the features.\n",
        "  \"\"\"\n",
        "  fig, ax = plt.subplots(figsize=(6, 6))\n",
        "  ax.scatter(data[:,0], data[:,1], marker='')  # produces a scatter plot\n",
        "  ax.set(\n",
        "      xlabel='feat 1',\n",
        "      ylabel='feat 2', xlim=(-5, 27), ylim=(-5, 27))\n",
        "  \n",
        "  emoji_list = ['😂', '😃', '😛']\n",
        "\n",
        "  for x in data:\n",
        "    emoji = np.random.choice(emoji_list) # randomly pick an emoji\n",
        "    plt.text(x[0], x[1], emoji, fontsize=20, c='orange')\n",
        "\n",
        "def plot_clusters(x, assignment, centroids, voronoi=False):\n",
        "  \"\"\"Draw the assignments of points to the clusters as given by\n",
        "    the kmeans algorithm.\n",
        "  Args:\n",
        "      x (ndarray): the features.\n",
        "      assignments (dict): mapping between points and clusters.\n",
        "      centroids (ndarray): the centroids used for kmeans.\n",
        "      voronoi (boolean): emphasize the region for each cluster using \n",
        "                    voronoi triangulation.\n",
        "  Returns:\n",
        "      frame (ndarray): frame enriched with clusters elements.\n",
        "  \"\"\"\n",
        "  n_samples = x.shape[0]\n",
        "  n_centroids = centroids.shape[0]\n",
        "  colmap = plt.cm.tab10\n",
        "\n",
        "  fig, ax = plt.subplots(figsize=(4, 4))\n",
        "  colors = [colmap(assignment[i]+1) for i in range(n_samples)]\n",
        "\n",
        "  ax.scatter(x[:,0], x[:,1], color=colors, alpha=0.5)  # produces a scatter plot\n",
        "\n",
        "  centroids = centroids + np.random.sample(centroids.shape) * 0.1\n",
        "  ax.scatter(centroids[:,0], centroids[:,1], \n",
        "              s=40, marker='x', color='black')  \n",
        "  ax.set(\n",
        "      xlabel='feat 1',\n",
        "      ylabel='feat 2', xlim=(-5, 25), ylim=(-5, 25))\n",
        "  \n",
        "  if voronoi:\n",
        "    xx, yy = np.meshgrid(np.arange(-5, 25, 0.1),\n",
        "                         np.arange(-5, 25, 0.1))\n",
        "\n",
        "    mesh_data = np.array([[xx0, yy0] \n",
        "                            for (xx0,yy0) in zip(xx.flatten(),yy.flatten())])\n",
        "    mesh_assignment, _ = assign_clusters(mesh_data, centroids)\n",
        "    Z = np.array([v for k,v in mesh_assignment.items()])\n",
        "    Z = Z.reshape(xx.shape)\n",
        "    \n",
        "    ax.pcolormesh(xx, yy, Z, cmap=colmap, alpha=0.1)\n",
        "\n",
        "  fig.canvas.draw()\n",
        "  frame = np.fromstring(fig.canvas.tostring_rgb(), dtype=np.uint8, sep='')\n",
        "  w, h = fig.canvas.get_width_height()\n",
        "  frame = frame.reshape((h, w, 3))\n",
        " \n",
        "  plt.close(fig)\n",
        "  return frame\n",
        "\n",
        "\n",
        "def plot_final_states(final_states, labels):\n",
        "  \"\"\"Plots the assignments of points to the clusters.\n",
        "  Args:\n",
        "      final_states:\n",
        "      labels:\n",
        "  \"\"\"\n",
        "\n",
        "  ipyplot.plot_images(final_states, labels, img_width=300)\n",
        "\n",
        "def plot_dendogram(x, assignment):\n",
        "  \"\"\"Draw the assignments of points to the clusters as given by\n",
        "    the aglomerative clustering algorithm.\n",
        "  Args:\n",
        "      x (ndarray): the features.\n",
        "      assignments (dict): mapping between points and clusters.\n",
        "  Returns:\n",
        "      frame (ndarray): frame enriched with clusters elements.\n",
        "  \"\"\"\n",
        "  n_samples = x.shape[0]\n",
        "  colmap = plt.cm.get_cmap('hsv',2*n_samples)\n",
        "  colmap_list = [colmap(i) for i in range(2*n_samples)]\n",
        "  random.shuffle(colmap_list)\n",
        "\n",
        "  fig, ax = plt.subplots(figsize=(4, 4))\n",
        "  colors = [colmap_list[assignment[i]+1] for i in range(n_samples)]\n",
        "\n",
        "  ax.scatter(x[:,0], x[:,1], color=colors, alpha=0.5)  # produces a scatter plot\n",
        "\n",
        "  ax.set(\n",
        "      xlabel='feat 1',\n",
        "      ylabel='feat 2', xlim=(-5, 25), ylim=(-5, 25))\n",
        "  \n",
        "  fig.canvas.draw()\n",
        "  frame = np.fromstring(fig.canvas.tostring_rgb(), dtype=np.uint8, sep='')\n",
        "  w, h = fig.canvas.get_width_height()\n",
        "  frame = frame.reshape((h, w, 3))\n",
        "\n",
        "  plt.close(fig)\n",
        "  return frame\n",
        "\n",
        "def plot_centroids(x, centroids):\n",
        "  \"\"\"Draw the assignments of points to the clusters as given by\n",
        "    the kmeans algorithm.\n",
        "  Args:\n",
        "      x (ndarray): the features.\n",
        "      assignments (dict): mapping between points and clusters.\n",
        "      centroids (ndarray): the centroids used for kmeans.\n",
        "      voronoi (boolean): emphasize the region for each cluster using \n",
        "                    voronoi triangulation.\n",
        "  Returns:\n",
        "      frame (ndarray): frame enriched with clusters elements.\n",
        "  \"\"\"\n",
        "  n_samples = x.shape[0]\n",
        "  n_centroids = centroids.shape[0]\n",
        "  colmap = plt.cm.tab10\n",
        "\n",
        "  fig, ax = plt.subplots(figsize=(4, 4))\n",
        "  \n",
        "  ax.scatter(x[:,0], x[:,1], color=\"gray\", alpha=0.5)  # produces a scatter plot\n",
        "\n",
        "  centroids = centroids + np.random.sample(centroids.shape) * 2\n",
        "  ax.scatter(centroids[:,0], centroids[:,1], \n",
        "              s=40, marker='x', color='red')  \n",
        "  ax.set(\n",
        "      xlabel='feat 1',\n",
        "      ylabel='feat 2', xlim=(-5, 25), ylim=(-5, 25))\n",
        "  \n",
        "  fig.canvas.draw()\n",
        "  frame = np.fromstring(fig.canvas.tostring_rgb(), dtype=np.uint8, sep='')\n",
        "  w, h = fig.canvas.get_width_height()\n",
        "  frame = frame.reshape((h, w, 3))\n",
        " \n",
        "  plt.close(fig)\n",
        "  return frame"
      ]
    },
    {
      "cell_type": "markdown",
      "metadata": {
        "id": "tLemVYviipPJ"
      },
      "source": [
        "#Ce este clusterizarea și de ce este importantă?\n",
        "Clusterizarea este o tehnică de învățare nesupervizată ce presupune un proces de organizare a datelor în clustere (grupuri), datele ce aparțin aceluiași grup fiind similare, iar cele care nu sunt similare sunt în grupuri diferite.\n",
        "\n",
        "În acest fel putem descrie mai bine datele noastre, putem găsi prototipuri reprezentative pentru fiecare grup sau detecta valori anormale (elemente care nu aparțin niciunui grup existent). \n",
        " \n",
        "În continuare vom prezenta câteva exemple de clusterizare din lumea reală:\n",
        "\n",
        "**Astronomie**\n",
        "*  corpurile cerești sunt grupate în galaxii, tinându-se cont de distanță\n",
        "*  galaxiile sunt grupate în roiuri de galaxii ce conțin alături de galaxii, gaze și materie întunecată ținute împreună de gravitație\n",
        "\n",
        " Identificarea și studierea galaxiilor dezvăluie diferite proprietăți despre structura universului. \n",
        "\n",
        "| |\n",
        " |---------|\n",
        " |<img src=\"https://upload.wikimedia.org/wikipedia/commons/thumb/5/53/PIA20052-GalaxyCluster-MOO-J1142%2B1527-20151103.jpg/1920px-PIA20052-GalaxyCluster-MOO-J1142%2B1527-20151103.jpg\" height=\"250\" width=\"300\"><figcaption align = \"center\"> Figura 1 Studierea galaxiilor </figcaption>|\n",
        "\n",
        "\n",
        "În **rețelele sociale**, utilizatorii sunt grupați în comunități pe baza  de prietenii și interese comune.\n",
        "\n",
        "Astfel, aplicația să poată recomanda  cereri de prietenie sau extrage caracteristici despre comunități.\n",
        "\n",
        "\n",
        "|  |\n",
        " |---------|\n",
        " | <img src=\"https://upload.wikimedia.org/wikipedia/commons/9/90/Kencf0618FacebookNetwork.jpg\" height=\"250\" width=\"300\"> <figcaption align = \"center\"> Figura 2 Rețele sociale </figcaption> |\n",
        "\n",
        "\n",
        "\n",
        "Intr-un **sistem computerizat de interpretare a imaginilor (vedere artificială/ computer vision)** culorile pixelilor ar putea fi grupate pentru a comprima o imagine prin reducerea numărului total de culori utilizate având un prejudiciu minim în ceea ce priveste calitatea imaginii.\n",
        "\n",
        "În imaginea de mai jos, grupăm pixelii după culoare, fără a ține cont de nuanțe și putem inlocui culoarea pixelilor din același grup cu culoarea dominantă a grupului. În funcție de numărul de clustere (grupuri), număr notat cu k, se obțin imagini cu același conținut care pierd din detalii, dar care ocupă mai puțină memorie. Acest procedeu poartă numele de compresie de imagini\n",
        "\n",
        "|  |\n",
        " |---------|\n",
        " | <img src=\"https://docs.opencv.org/3.4/oc_color_quantization.jpg\" height=\"250\" width=\"300\" align = \"center\"> <figcaption align = \"center\"> Figura 3 Computer vision </figcaption> |\n",
        "\n",
        "\n",
        "Acestea sunt doar câteva exemple în care întâlnim clusterizare, însă ne putem gândi la muzica pe care o ascultăm pe Spotify și putem face o grupare în funcție de genul muzical, sau la videourile pe care le urmărim și la o grupare a acestora în funcție de subiect sau de profilul celor ce le urmăresc și în mod evident exemplele pot continua, clusterizarea fiind o tehnică răspândită în diferite domenii, cu o mare varietate de cazuri de utilizare.  \n",
        "\n",
        "\n"
      ]
    },
    {
      "cell_type": "markdown",
      "metadata": {
        "id": "IgsforNaKqhl"
      },
      "source": [
        "# Reprezentare grafică a datelor\n",
        "\n",
        "*Notă:* ***Pentru simplitate, considerăm pentru fiecare dată doar 2 caracteristici. Prin urmare, datele vor fi reprezentate grafic prin puncte 2D, dar tehnicile de clusterizare funcționează la fel de bine și pentru date multi-dimensionale.***\n",
        "\n",
        "Pentru a ilustra grafic problema clusterizării, vom prezenta un exemplu sintetic, inspirat din domeniul rețelelor sociale. \n",
        "\n",
        "Considerăm un grup de 30 de persoane ($n_{samples}=30$), fiecare persoană caracterizat prin 2 trăsături: vârsta și personalitatea, reprezentate ca numere reale ($n_{feats}=2$). \n",
        "\n",
        "De exemplu, două puncte situate pe o dreapta paralelă cu axa verticală corespund unor persoane de aceeași vârstă, în timp ce două puncte situate pe o dreaptă paralelă cu axa orizontală reprezintă persoane cu personalități similare (-5 ar putea însemna o persoană foarte introvertită în timp ce 25 reprezintă o personalitate extrem de extrovertită).\n",
        "\n",
        "Scopul nostru este de a crea K echipe ($n_{groups}=K$) astfel încât fiecare echipă să conțină persoane cu caracteristici similare.\n",
        "\n",
        "Pentru a vedea cum arată grupul nostru ca reprezentare grafică 2D, vom executa secvența de cod de mai jos în care sunt apelate funcțiile *generate_data* și *plot_data* care au fost definite în prima parte a acestui capitol.\n"
      ]
    },
    {
      "cell_type": "code",
      "execution_count": null,
      "metadata": {
        "cellView": "form",
        "colab": {
          "base_uri": "https://localhost:8080/",
          "height": 388
        },
        "id": "N91pN5aiCZz9",
        "outputId": "3f3461f7-594d-4bbb-dcde-cf54abae4d89"
      },
      "outputs": [
        {
          "data": {
            "image/png": "[encoded data removed]",
            "text/plain": [
              "<Figure size 432x432 with 1 Axes>"
            ]
          },
          "metadata": {
            "needs_background": "light"
          },
          "output_type": "display_data"
        }
      ],
      "source": [
        "# @markdown Secvența de cod ce generează date și le reprezintă grafic\n",
        "# Generate syntetic data.\n",
        "student_feats = generate_data(n_samples=40, n_feats=2)\n",
        "\n",
        "# Plots the observed data. \n",
        "# Value for feature 1 (age) is represented on x-axis.\n",
        "# Value for feature 2 (personality) is represented on y-axis. \n",
        "plot_data(student_feats)"
      ]
    },
    {
      "cell_type": "markdown",
      "metadata": {
        "id": "Mcqbp8C8t0Td"
      },
      "source": [
        "# Distanța dintre puncte\n",
        "Să ne amintim că procesul de clusterizare presupune gruparea datelor în clustere în funcție de similaritare. Prin urmare este important să definim similaritatea și să cuantificăm gradul de similaritate, urmând să aplicăm apoi  un algoritm de grupare.\n",
        "\n",
        "Pentru a măsura similaritatea dintre două puncte putem folosi orice distanță , cele mai utilizate distanțe fiind:\n",
        "\n",
        "*   distanța euclidiană\n",
        "*   distanța cosinus\n",
        "\n",
        "Pentru a alege formula de distanță potrivită ar trebui să ne gândim la ce înseamnă ca două observații să fie similare: distanța (😂, 😃) =?\n",
        "Sau ce înseamnă ca doi oameni să aibă preferințe muzicale similare?\n",
        "Când două stele ar trebui considerate ca făcând parte din aceeași galaxie sau dacă două puncte aparțin aceluiași obiect? \n",
        "\n",
        "Această alegere este subiectivă, insa alegerea unei distanțe adecvate poate influența foarte mult rezultatele. \n",
        "\n",
        "Considerăm punctele\n",
        "\n",
        "*  ${x_i}$ de coordonatele $x_{i_1}$ și $x_{i_2}$\n",
        "*  ${x_j}$ de coordonatele $x_{j_1}$ și $x_{j_2}$\n",
        "\n",
        "și definim:\n",
        "\n",
        "\n",
        "**Distanța euclidiană dintre punctele ${x_i}$ și ${x_j}$:**\n",
        "\n",
        " $\\color{red}{dist(x_i,x_j) = \\sqrt{\\sum_{k=1}^{2}(x_{i_k}-x_{j_k})^2)}}$\n",
        "\n",
        "<=>\n",
        "\n",
        "\n",
        " $\\color{red}{dist(x_i,x_j) = \\sqrt{(x_{i_1}-x_{j_1})^2+(x_{i_2}-x_{j_2})^2}}$\n",
        "\n",
        "**Distanța cosinus dintre punctele ${x_i}$ și ${x_j}$, ${\\phi}$ fiind unghiul dintre cei 2 vectori:** \n",
        "\n",
        " $\\color{green}{dist(x_i,x_j) = 1-cos(\\phi) =1- \\frac{x_i^T x_j}{\\sqrt{(x_i^Tx_i)}\\sqrt{x_j^Tx_j}}}$\n",
        "\n",
        "<=>\n",
        "\n",
        "$\\color{green}{dist(x_i,x_j) = 1-cos(\\phi) =1- \\frac{x_{i_1}{\\times}x_{j_1}+x_{i_2}{\\times}x_{j_2}}{\\sqrt{(x_{i_1}^2+x_{i_2}^2)}{\\times}\\sqrt{(x_{j_1}^2+x_{j_2}^2)}}}$\n",
        "\n",
        "\n",
        "Vom determina valoarea numerică a acestor distanțe pentru punctele ***bear*** ($x_1 \\in \\mathbb{R}^2$), ***beaver*** ($x_2 \\in \\mathbb{R}^2$) și ***octopus*** ($x_3 \\in \\mathbb{R}^2$), așa cum rezultă din imaginea alăturată \n",
        "\n",
        "\n",
        "\n"
      ]
    },
    {
      "cell_type": "markdown",
      "metadata": {
        "id": "kMbrN43Dx6ZG"
      },
      "source": [
        "\n",
        "$\n",
        "\\begin{align}\n",
        "\\small\n",
        "x_{beaver}&=[2, 4] \\\\\n",
        "x_{bear}&=[3, 6] \\\\\n",
        "x_{octopus}&=[5, 2]\n",
        "\\end{align}\n",
        "$                                                    <img src=\"https://drive.google.com/uc?export=view&id=1VPw4t3Xd1Z3q1pkEUIB4-mmWsoi5wkqa\" height=\"250\" width=\"300\">\n"
      ]
    },
    {
      "cell_type": "markdown",
      "metadata": {
        "id": "Xtkb2TPotZ5F"
      },
      "source": [
        "$\n",
        "\\begin{align}\n",
        "&dist_{cosine}(x_{beaver}, x_{octopus})=1-\\frac{2\\times5+4\\times2}{\\sqrt{2^2+4^2}\\times\\sqrt{5^2+2^2}} \\approx 0,253 \\\\\n",
        "&dist_{cosine}(x_{bear}, x_{octopus}) =1-\\frac{3\\times5+6\\times2}{\\sqrt{3^2+6^2}\\times\\sqrt{5^2+2^2}} \\approx 0,253 \\\\\n",
        "\\end{align}\n",
        "$\n",
        "\n",
        "$\n",
        "\\begin{align}\n",
        "&dist_{euclid}(x_{beaver}, x_{octopus})=\\sqrt{(5-2)^2+(2-4)^2} \\approx 3.6 \\\\\n",
        "&dist_{euclid}(x_{bear}, x_{octopus})=\\sqrt{(5-3)^2+(2-6)^2}  \\approx 4,47\\\\\n",
        "\\end{align}\n",
        "$\n",
        "\n",
        "Observăm că distanța euclidiană dintre octupus și beaver este mai mică decât distanța euclidiană dintre octupus și bear, în timp ce distanța cosinus dintre octupus și beaver este egală cu distanța cosinus dintre  octupus și bear deoarece în cazul distanței cosinus contează doar unghiul dintre vectori, care este același în acest caz, originea, beaver și bear fiind coliniare.\n",
        "\n",
        "De exemplu, în domeniul procesării limbajului natural, când vorbim despre text, dacă avem 3 texte, în primele două se vorbește despre școală, iar în cel de-al treilea se vorbește despre sport. Primul text este de două ori mai lung decat cel de-al doilea. Setul de cuvinte care va fi pentru noi vectorul de reprezentare al documentului este același pentru primele doua texte. Când analizăm simularitatea dintre texte, ne așteptăm ca primele două texte să aibă același grad de simularitate cu cel de-al treilea. In acest caz, lungimea textului nu ar trebui să influențeze metrica de similaritate, prin urmare este recomandată distanța cosinus.\n",
        "Pe de altă parte, dacă vorbim de astronomie, aici folosim în general distanța euclidiană.\n",
        "\n",
        "Reținem că alegerea modului de calcul a distanței influențează gradul de similaritate dintre date. De exemplu, în cazul distanței cosinus, contând doar  unghiul, date care din punct de vedere al distanței euclidiene sunt foarte departe, ar putea fi similare dacă unghiul este mic. \n",
        "\n",
        "În general poate fi greu de determinat care ar fi distanța corectă. De exemplu daca considerăm cazul imaginilor, nici distanța euclediană, nici cea cosinus nu pare a fi ideală cand imaginile sunt representate ca un tablou de pixeli. Aceste distance pot fi arbitrar de mari chiar dacă cele două imagini ar conține același obiect, daca fundalul imagini este diferit. Problema aceasta poate fi abordată in doua feluri. Fie consideram o distanța nouă care reflecta mai bine intenția noastra, sau reprezentăm imaginile in mod diferit, astfel incât distanța euclediană (sau cosinus) să reflecte similaritatea pe care o dorim între imagini. O astfel de representare, similar cu cea menționata pentru text, ar putea fi un vector, unde fiecare dimensiune reprezintă un obiect diferit, si valoarea vectorului pe o anumită dimensiune reprezintă numarul de instanțe prezente in imagine ale obiectului respectiv.\n",
        "\n",
        "Alegerea modului de calcul al distanței dintre date si decizia cum sa fie reprezentate datele respective implică, de obicei, o anumită înțelegere a datelor în sine și poate produce o diferență semnificativă în rezultatele obținute.\n",
        "**Indiferent de formula de calcul a distanței (distanța cosinus sau distanța euclidiană), cu cât distanța e mai mică (datele sunt \"mai aproape\") cu atât similaritatea este mai mare.**"
      ]
    },
    {
      "cell_type": "markdown",
      "metadata": {
        "id": "8fcqg1mqW6jJ"
      },
      "source": [
        "Funcția de calcul a distanței dintre 2 puncte având ca parametri punctele și tipul distanței, implicit fiind distanța euclidiană"
      ]
    },
    {
      "cell_type": "code",
      "execution_count": null,
      "metadata": {
        "id": "lMtdJeq8cs_W"
      },
      "outputs": [],
      "source": [
        "#@ Calculul distantei\n",
        "def compute_distance(x,y, dist_type='euclid'):\n",
        "  \"\"\" Compute {dist_type} distance.\n",
        "    Args:\n",
        "        x (ndarray): first argument for distance function.\n",
        "        y (ndarray): second argument for distance function.\n",
        "        dist_type (string): the type of measure required.\n",
        "    Returns:\n",
        "        distance (int): computed distance.\n",
        "  \"\"\"\n",
        "\n",
        "  dist = 0.0\n",
        "  if dist_type == 'euclid':\n",
        "    for (xk, yk) in zip(x,y):\n",
        "      dist +=  (xk - yk) ** 2\n",
        "    return math.sqrt(dist)\n",
        "\n",
        "  elif dist_type == 'cosine':\n",
        "    sim = np.dot(x,y) /(math.sqrt(np.dot(x,x)) * math.sqrt(np.dot(y,y)))\n",
        "    return 1-sim\n",
        "  else:\n",
        "    raise ValueError('Unknown distance type: {}'.format(dist_type))"
      ]
    },
    {
      "cell_type": "code",
      "execution_count": 4,
      "metadata": {
        "id": "pURUN5vidia9"
      },
      "outputs": [],
      "source": [
        "from sklearn.metrics.pairwise import cosine_similarity, cosine_distances"
      ]
    },
    {
      "cell_type": "code",
      "execution_count": null,
      "metadata": {
        "colab": {
          "base_uri": "https://localhost:8080/"
        },
        "id": "bBwx0VPrdyLW",
        "outputId": "be0eddc9-c538-49a0-fa7a-0d236a3dfcd0"
      },
      "outputs": [
        {
          "data": {
            "text/plain": [
              "array([[0.74740932]])"
            ]
          },
          "execution_count": 39,
          "metadata": {},
          "output_type": "execute_result"
        }
      ],
      "source": [
        "x= [[2, 4]]\n",
        "y = [[5, 2]]\n",
        "\n",
        "cosine_similarity(x,y)"
      ]
    },
    {
      "cell_type": "code",
      "execution_count": null,
      "metadata": {
        "colab": {
          "base_uri": "https://localhost:8080/"
        },
        "id": "OtUcg3Dv5dKP",
        "outputId": "a6c37d0d-566d-4087-8f71-9541af9d0e28"
      },
      "outputs": [
        {
          "data": {
            "text/plain": [
              "array([[0.25259068]])"
            ]
          },
          "execution_count": 40,
          "metadata": {},
          "output_type": "execute_result"
        }
      ],
      "source": [
        "cosine_distances([[2,4]],[[5,2]])"
      ]
    },
    {
      "cell_type": "code",
      "execution_count": null,
      "metadata": {
        "colab": {
          "base_uri": "https://localhost:8080/"
        },
        "id": "mpDyeqdn4W1H",
        "outputId": "94cf6733-3ec2-4c79-82f7-9fdaf130a173"
      },
      "outputs": [
        {
          "data": {
            "text/plain": [
              "0.2525906813163403"
            ]
          },
          "execution_count": 41,
          "metadata": {},
          "output_type": "execute_result"
        }
      ],
      "source": [
        "compute_distance([2,4],[5,2], dist_type='cosine')"
      ]
    },
    {
      "cell_type": "markdown",
      "metadata": {
        "id": "GCJC3qGKoulN"
      },
      "source": [
        "#Algoritmi de clusterizare\n",
        "\n",
        "Există mai mulți algoritmi de clusterizare și alegerea algoritmului pe care sa il folosim in fiecare situatie se face în funcție de aplicație, de memoria disponibilă și de constrângerile de timp. \n",
        "\n",
        "În acest capitol, vom prezenta cel mai utilizat algoritm de clusterizare,  *K-means*"
      ]
    },
    {
      "cell_type": "markdown",
      "metadata": {
        "id": "lvG6y9SzpnJU"
      },
      "source": [
        "##Algoritmul K-means\n",
        "\n",
        "Pentru algoritmul *K-means* trebuie să știm încă de la început **numărul de clustere**. Intuitiv, grupăm punctele în clustere, astfel încât fiecare punct să fie cât mai aproape de centrul clusterului său.\n",
        "\n",
        " Utilizând **distanța euclidiană** pentru a stabili „apropierea” dintre puncte, algoritmul *K-means* este următorul:\n",
        "\n",
        "*   **Pasul 1- INIȚIALIZARE** Generăm aleator K puncte pe care le considerăm a fi reprezentanții (centroizii) celor K clustere, câte unul pentru fiecare cluster. Acești centroizi sunt dispuși aleator în spațiu. Vom vedea mai târziu că este important ca acești centroizi să fie dispuși pe întreaga zonă acoperită de date.\n",
        "*   **Pasul 2 - ASIGNARE** Fiecare punct din setul de date va fi asociat celui mai apropiat centroid (aflat la distanță minimă). Apare astfel o grupare a datelor în clustere.  \n",
        "*   **Pasul 3 - ACTUALIZARE** Pentru fiecare cluster obținut la pasul 2, se determină reprezentantul (centroidul) ca medie a punctelor din clusterul respectiv\n",
        "*   **Repetați Pasul 2 - Pasul 3**, până când centroizii nu se mai schimbă. \n"
      ]
    },
    {
      "cell_type": "markdown",
      "metadata": {
        "id": "Ebnq6iDXFsHM"
      },
      "source": [
        "##Exemplu vizual, pas cu pas, pentru algoritmul K-means\n",
        "Custerizarea a $11$ puncte situate în spațiul 2D în $K=3$ clustere:\n",
        "\n",
        "**Pasul 1: Initializare.**\n",
        "Am reprezentat cu gri cele 11 puncte ce urmează a fi grupate și am marcat cu un \"X\" centroizii, inițializați în mod aleator\n",
        "\n",
        "\n",
        "![k-means step1.png](data:image/png;base64,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)\n",
        "\n",
        "**Pasul 2: Asignare.** \n",
        "Se determină, pentru fiecare punct, distanțele față de cei 3 centrozi\n",
        "\n",
        "\n",
        "\\\\\n",
        "\n",
        "![k-means step2.png](data:image/png;base64,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)\n",
        "\n",
        "Se asociază fiecare punct  element celui mai apropiat centroid, obținându-se astfel o grupare a punctelor în clustere\n",
        "\n",
        "\\\\\n",
        "\n",
        "![k-means step2 all.png](data:image/png;base64,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)\n",
        "\n",
        "\n",
        "**Pasul 3: Actualizare**\n",
        "\n",
        "Se determină media punctelor din cluster, altfel spus punctul cel mai apropiat de toate celelalte puncte din clusterul respectiv.\n",
        "\n",
        "\n",
        "![k-means step3.png](data:image/png;base64,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)\n",
        "\n",
        "\n",
        "Actualizarea centroizilor pentru fiecare cluster obținut la pasul anterior\n",
        "\n",
        "\\\\\n",
        "\n",
        "![k-means step3 all (1).png](data:image/png;base64,iVBORw0KGgoAAAANSUhEUgAAAMcAAACDCAYAAAA5zA+8AAAACXBIWXMAAAsTAAALEwEAmpwYAAAAAXNSR0IArs4c6QAAAARnQU1BAACxjwv8YQUAAAgGSURBVHgB7d1dUttWFAfwc2STmU5fnKbts/oUE5IZWEHoCgorwFlByApMVhCzAswKwg7CDshDEtzpA3rrQz7wW9tg6fQcSQY3Y+C6WLKu9f9NNRDpoqSgP/dTElFOiELdXul2rpvodqbbge0ngLrSAOxMhOLbzfbvEEDd5DXGdcGYDEhIAHWSN53EYesRQJ3kfQuXcJwTLIe2hM01edV4kpw3HyeiH88aa3JA7b9CgkssaT4cC6f/gc9W1mQnCaSnP/jWlMNDFt69eM+HBGk4rEZoOZSNNBm/EPhLa4zGipxcE4yx4Wj0zwYNvouo5gLdXH9LHBN4rdGg7i3BMK1m894uQVpzhPrxhG6uPYa6bWjNERF4y/oW+gMPHYoOR++C+1RzTbvgNSAv9PNXND0gFowXCIb/HINhXJrZd9Y+3QqZk+dM3JGsRrOm+3FC/HKwehTRjOZ9vssOdl6D7On2lLLPLRTW5OohGMtBR6ac+pd6YUXx+6DQ/mX7dHsn4KQn05p5TEPhYHfw8LXzwMC8z5d9WQk0eFv6YV23I/0L3+b7OpSFsI/wlaP5ONa5Kn5+WzkR7sfv+RkVxH7DBywnclP/xy5o4Q2X3/jzPt9YQOWwWqhLWdNtXEsd6LaDYJRnNApsInd4Uxn92Qzj+O+XVKCApCu3DQzocZbEaWBg3ue7Om8JOBvp2tdtU7/5m5QFxWwTlGfAkSSJ9S+nBsSCEdjxgodx82vgdgHvuBSb9/kui1N59ij7obymrEnVHzexoDzxh2Z/NOINETm0voXts1BQIvuxzm9c6HEqXuhUSpwHBkKnUjLbQEOTSqJBGEpWe4xrjblX3XlzzdrUHco6nhFltdZLNN8maA0SZ9+jheC0/e828exQZu7nGyuz5jCT1doWzVG+rN7ma6xdOf5GhZRdBCdYdl8dkojTqJE4TjzP+3xjpYVjYnTK/kci3boyp/H0vMawzuZ157P9PSy7rwYdVu3Zb/ubymTH2al1Me/zjZUSjvyitOZURFnfw/6RLbpqYt1Vl24Pmh3HsogKsOHURPjFdRe07bfjrsOu8z7f5ddRCSQbtu1QNtPey/e9oWyU4Ve+47otW3ZPbrXCUP+uyi2LaDwZbbHwOifx0cWHe+kgRePRqMMBh6PR1/6yLgK0+QltE+0xczrxbBdxrE0k1prg/86Qz/N8S8HxfhSZZXl+mZqPLzbtvgrd3qQ77H4Lu89iLTkjWJiyO+RFGTqWi6iCRu9WjjW36TyQBcVWz9r+QEaYB4K7kayz7VJzHFBVrUvL1j5d3p1nd+YB3NWyPCSi+Tjey5tXgltWF28pmlX5BN+1yyLIk2X3wlfLG1Ya9+Y6DwQ1l9cg/YmHRpyLJ/MbNjqVPewg7ltHPF1erk0tAqg1u7c7fQKIjk5pc2ocFHtCCAHUmXW+LQwra/HlJKUN62b9j4tNAgAAAA+UsnzEGzYz3aDnEkjHHmEjrKNbCR+nd8bhOU61g3Dk8CRA+BbCYfAkQJhiWdZW3QmeBAjTIBwmkE23grPdoA9+Qzioek8ChGpAODJOS97HT+uAekA4UuI4CsXHBLWBcFB1ngQI1YJwmIo8CRCqBfMck2y+o5Hs6bflKXO6/H3IiRyOkq89BAMAAAAAAAAAAAAAAAAAAAAAAAAAAAAAAAAAAAAAAAAAAAAAAAAAAAAAAAAAAAAAqg2vIICFevBpdUtY1htxfPTx5z/eZvvaHWEKk4D6w/uDiADq6MeP7c0HX1ZFtzf259af7dD+/MOX1TNaMLzZCRbq00+DYxLa1083WxqUxr2ga/sbo9E2LRiaVbBwrfP1ViBfz7KLUVrE0v98f/CMFgw1Byzc8P7bYSDJfhoMFRNV4sWkCAdUgjDvjD8PEt6iCkA4YOFsdEo/hNr3OBSiiJm6rfOwRQuGcMBC2egUBdy1UMSB7HEi1qRqNZPvuwRQZw8+PzqwodsfP6/uXu770n5j+2z0igAAAADAd5gEhBu1T7dC5uQ5E3dEyEaQIr1ojhPil4PVo4iWGMIB12qfbu8EnPTyUPwX01A42B08fH1ISwrhgKmsxghYTqYGY8wCIryxrDUI5jlgqoCke2MwjB5nSXZpSSEcMJVOym06FQyuln0sG4QDrhM6lbqtdvEYwgFTsfYnHItGtKQQDphKEnEahdLm1zEtKYQDptJh2t5ttUd2nCtx70UREA6YyoZnE+EX1wXE9tvxZZ4IxDwH3MjmO7SNtcfMT/WPoYUi1iYXa82CGXKAO/J1CQrCAYXyeQkKwgGF8X0JCjrkUBjfl6AgHFAY35egIBxQpNCpVEWXoDQJoCCc9iecLvyISuYygoaaAwpT1SUo2QianJDw7kR4Q/13dFj3t3/fTpt5GK2CwriMVuUz7aWNVs0ygoaaAwpTxSUos4ygIRxQKL3w+1YziKRNrMj2ZaGQ/bzG6FOJZhlBQ7MKamX19DdxLYuaA2pllpu4EA6olVlG0BAOqJVZbuJCnwO8dJdl8Pq1HR3OfTVt1GpiBK2PcIB35rEM3uUmLoQDvFLmMnj0OcArZS6DRzjAK2Uug0c4wDehU6k5LINHOMArZT6JEeEAr5S5DB7hAK+U+SRGhAO8UuYyeMxzgJfKeBIjwlGwOr9w0ncIR4Hq/sJJ3yEcBcELJ/2HDnlB8MJJ/yEcBcELJ/2HcBQndCq1xC+c9B3CURC8cNJ/CEdB8MJJ/yEcBcELJ/2HcBQEL5z0H+Y5ClbnF0767l9N54OXCtIk3wAAAABJRU5ErkJggg==)\n",
        "\n"
      ]
    },
    {
      "cell_type": "markdown",
      "metadata": {
        "id": "y1Fed5a5J5aO"
      },
      "source": [
        "***Notă:*** Este demonstrat matematic că după un număr finit de pași centroizi vor ramane fixați (centroizii nu se mai modifica de la o iteratie la urmatoarea), altfel spus acest algoritm converge către un minim local.\n",
        "\n",
        "***Obiectivul*** acestui algoritm este de a minimiza, în interiorul fiecărui  cluster $C_j$, media distanțelor de la puncte la centroidul clusterului \n",
        "\n",
        "$\\frac{\\sum_{x \\in C_j}dist(x - u_j)}{N}$, unde N este numărul de puncte din clusterul $C_j$, iar $u_j$ este centroidul acestui cluster\n",
        "\n",
        "Fie clusterele $C_1$,$C_2$,...$C_K$, având centroizii $u_1$,$u_2$,...$u_K$ notăm \n",
        "\n",
        " $L = \\sum_{j=1}^K \\sum_{x \\in C_j}dist(x - u_j)$. \n",
        "\n",
        "O valoare mică pentru $ L $ ne arată că punctele sunt bine concentrate în jurul centroizilor. Se poate demonstra că în timpul ciclului repetitiv din algoritmul k-means, L scade.  Deci, pe măsură ce avansăm, clusterizarea este îmbunătățită. "
      ]
    },
    {
      "cell_type": "markdown",
      "metadata": {
        "id": "T_vwu5jGeiDo"
      },
      "source": [
        "##Implementare algoritm K-means "
      ]
    },
    {
      "cell_type": "code",
      "execution_count": null,
      "metadata": {
        "id": "KStfFsmwWCO9"
      },
      "outputs": [],
      "source": [
        "# K-means algorithm\n",
        "# Step 1 \n",
        "def random_initialize(data, n_clusters):\n",
        "  idxs = np.random.choice(range(data.shape[0]), n_clusters)\n",
        "  centroids = np.array([data[i] for i in idxs])\n",
        "  return centroids\n",
        "\n",
        "def custom_initialize(init_array=[]):\n",
        "  centroids = init_array\n",
        "  return centroids\n",
        "\n",
        "# Step 2\n",
        "def assign_clusters(data, centroids):\n",
        "  \"\"\" Assign each exemple to its closest centroid\n",
        "\n",
        "  Args:\n",
        "      data (ndarray): observed students.\n",
        "      centroids (ndarray): current clusters' centroids.\n",
        "  Returns:\n",
        "      assignment (ndarray): the assignment at crt step.\n",
        "  \"\"\"\n",
        "  n_clusters = centroids.shape[0]\n",
        "  n_samples = data.shape[0]\n",
        "  assignment = {}\n",
        "  clusters = {}\n",
        "\n",
        "  for i in range(n_clusters):\n",
        "    clusters[i] = []\n",
        "\n",
        "  for j in range(n_samples):\n",
        "    min_dist = 100000\n",
        "    min_idx = -1\n",
        "    for i in range(n_clusters):\n",
        "      dist_ij = compute_distance(data[j], centroids[i])\n",
        "      if dist_ij < min_dist:\n",
        "        min_dist = dist_ij\n",
        "        min_idx = i\n",
        "    assignment[j] = min_idx\n",
        "    clusters[min_idx].append(data[j])\n",
        "\n",
        "  return assignment, clusters\n",
        "\n",
        "# Step 3 \n",
        "def update_centroids(clusters, n_clusters, n_feats):\n",
        "  \"\"\" Compute new centroids by averaging examples in each cluster.\n",
        "\n",
        "  Args:\n",
        "      clusters (list): lists containing the elements from each cluster.\n",
        "      n_clusters (int): number of clusters.\n",
        "      n_feats (int): number of features.\n",
        "  Returns:\n",
        "      centroids (ndarray): the updated centroids.\n",
        "  \"\"\"\n",
        "\n",
        "  centroids = np.zeros((n_clusters, n_feats))\n",
        "  for i in range(n_clusters):\n",
        "    centroids[i] = np.mean(clusters[i], axis=0)\n",
        "  return centroids\n",
        "\n",
        "def kmeans(data, k, init_policy='random', \n",
        "              init_centroids=None, voronoi=False):\n",
        "  n_feats = data.shape[1]\n",
        "  assignment = {}\n",
        "  frames = []\n",
        "\n",
        "  # Step 1\n",
        "  if init_policy == 'random':\n",
        "    centroids = random_initialize(data, n_clusters=k)\n",
        "  else:\n",
        "    centroids = custom_initialize(init_centroids)\n",
        "\n",
        "  # Step 2\n",
        "  assignment, clusters = assign_clusters(data, centroids)\n",
        "  while(True):\n",
        "    old_assignment = assignment\n",
        "    # Step 3\n",
        "    centroids = update_centroids(clusters, k, n_feats)\n",
        "    # Step 2\n",
        "    assignment, clusters = assign_clusters(data, centroids)\n",
        "    frames.append(plot_clusters(data, assignment, centroids, voronoi=voronoi))\n",
        "    # finish when the algorithm reachs a fixed point\n",
        "    if old_assignment == assignment:\n",
        "      break\n",
        "  # print(f\"iterations: {len(frames)}, clusters: {centroids.shape[0]}\")\n",
        "  return frames, centroids, assignment"
      ]
    },
    {
      "cell_type": "markdown",
      "metadata": {
        "id": "kR_bcNG6e7zf"
      },
      "source": [
        "##Execuție algoritm K-means"
      ]
    },
    {
      "cell_type": "code",
      "execution_count": null,
      "metadata": {
        "colab": {
          "base_uri": "https://localhost:8080/",
          "height": 415,
          "referenced_widgets": [
            "12884e5d46604448bbcdb97fece9498c",
            "4b66735c27134d879627a20184aa3c49",
            "435c209427394655914ee7bd0ba835c4",
            "4810533220054266a11a1bd0f63cd0e9",
            "55ab19fbc9534f22a7a31dff888f3c5b",
            "b88deabf480d4e129cd092bda81352b4",
            "0b646dc0e0d047208627aa33b1e5be1c"
          ]
        },
        "id": "Urd_e7mne8-R",
        "outputId": "118ba12d-4139-49ec-f605-5187a5e68bd2"
      },
      "outputs": [
        {
          "data": {
            "application/vnd.jupyter.widget-view+json": {
              "model_id": "12884e5d46604448bbcdb97fece9498c",
              "version_major": 2,
              "version_minor": 0
            },
            "text/plain": [
              "interactive(children=(IntSlider(value=1, description='iter', max=3), Output()), _dom_classes=('widget-interact…"
            ]
          },
          "metadata": {},
          "output_type": "display_data"
        }
      ],
      "source": [
        "# Run this code to apply k-means on data\n",
        "np.random.seed(121)\n",
        "frames, centroids, assignment = kmeans(student_feats,k=4, voronoi=True)\n",
        "\n",
        "def plot_clusters_refresh(iter):\n",
        "  ipyplot.plot_images([frames[iter]], [f'Iteration: {iter}'], img_width=300)\n",
        "\n",
        "_ = widgets.interact(plot_clusters_refresh, iter=(0,len(frames)-1,1))"
      ]
    },
    {
      "cell_type": "markdown",
      "metadata": {
        "id": "sKWwC5BCg9U7"
      },
      "source": [
        "Deci, așa cum era de așteptat, observăm că punctele mai apropiate aparțin aceluiași cluster și atribuirea este îmbunătățită la fiecare iterație.\n",
        "\n",
        "Practic, am împărțit persoanele în 4 grupuri, fiecare având caracteristici similare. În cazul nostru, datorită caracteristicilor selectate, acestea vor avea vârste similare și un tip de personalitate similar.\n",
        "\n",
        "Ar trebui reținut că, prin construcție, algoritmul K-means împarte spațiul în regiuni convexe (descrise în culori) astfel încât fiecare regiune să corespundă unui grup. O regiune este desenată astfel încât toate punctele din interiorul regiunii să fie mai aproape de centroidul regiunii (marcat cu un semn „x”) decât de orice alt centroid disponibil. Astfel, ne așteptăm ca o nouă persoană situată în regiunile „roșii” să aibă similarități cu alte persoane din aceleași regiuni.\n",
        "\n",
        "Mai mult, pentru fiecare cluster, algoritmul produce un centroid. Intuitiv, acest lucru ar putea fi văzut ca un „prototip”: un exemplu reprezentativ pentru grupul respectiv. \n",
        "\n"
      ]
    },
    {
      "cell_type": "markdown",
      "metadata": {
        "id": "Y7kN379Zbrq_"
      },
      "source": [
        "Uneori modul în care datele sunt grupate în urma  aplicării algoritmului K-means nu este cel așteptat și acest lucru poate fi cauzat de:\n",
        "*   un număr nepotrivit de clustere\n",
        "*   o inițializare irelevantă a centroizilor\n"
      ]
    },
    {
      "cell_type": "markdown",
      "metadata": {
        "id": "fO81AezarPFz"
      },
      "source": [
        "##Numărul de clustere\n",
        "\n",
        "Pentru a rula algoritmul K-means, trebuie să furnizăm numărul de clustere K. Algoritmul k-means nu oferă nicio intuiție despre care este cea mai bună alegere pentru acest parametru.\n",
        "\n",
        "Nu știm care este cea mai bună alegere a numărului de clustere, dar știm că numărul de clustere influențează rezultatele aplicării alogormului K-means.\n",
        "Cu prea puține clustere, putem forța ca date nesimilare (care aparțin unor grupuri distincte) să se grupeze într-un cluster mare, în timp ce având prea multe clustere algoritmul va diferenția artificial entități similare.\n",
        "\n",
        "De exemplu, dacă suntem interesați să împărțim clasa în 4 echipe pentru un joc, alegerea lui K este evidentă. Dar, dacă, în schimb, ne interesează câte categorii de elevi avem, algoritmul K-means standard nu ne poate oferi un răspuns direct. \n",
        "\n",
        "**Analiza vizuală a influenței numărului de clustere asupra grupării datelor: **"
      ]
    },
    {
      "cell_type": "code",
      "execution_count": null,
      "metadata": {
        "colab": {
          "base_uri": "https://localhost:8080/",
          "height": 383
        },
        "id": "s1GwBuwTwpmk",
        "outputId": "d5a19375-e069-44cf-d330-44818e30b941"
      },
      "outputs": [
        {
          "data": {
            "text/html": [
              "\n",
              "    <style>\n",
              "        #ipyplot-html-viewer-toggle-iQpyjRCcSYipDf7PvECipw {\n",
              "            position: absolute;\n",
              "            top: -9999px;\n",
              "            left: -9999px;\n",
              "            visibility: hidden;\n",
              "        }\n",
              "\n",
              "        #ipyplot-html-viewer-label-iQpyjRCcSYipDf7PvECipw { \n",
              "            position: relative;\n",
              "            display: inline-block;\n",
              "            cursor: pointer;\n",
              "            color: blue;\n",
              "            text-decoration: underline;\n",
              "        }\n",
              "\n",
              "        #ipyplot-html-viewer-textarea-iQpyjRCcSYipDf7PvECipw {\n",
              "            background: lightgrey;\n",
              "            width: 100%;\n",
              "            height: 0px;\n",
              "            display: none;\n",
              "        }\n",
              "\n",
              "        #ipyplot-html-viewer-toggle-iQpyjRCcSYipDf7PvECipw:checked ~ #ipyplot-html-viewer-textarea-iQpyjRCcSYipDf7PvECipw {\n",
              "            height: 200px;\n",
              "            display: block;\n",
              "        }\n",
              "\n",
              "        #ipyplot-html-viewer-toggle-iQpyjRCcSYipDf7PvECipw:checked + #ipyplot-html-viewer-label-iQpyjRCcSYipDf7PvECipw:after {\n",
              "            content: \"hide html\";\n",
              "            position: absolute;\n",
              "            top: 0;\n",
              "            left: 0;\n",
              "            right: 0;\n",
              "            bottom: 0;\n",
              "            background: white;\n",
              "            cursor: pointer;\n",
              "            color: blue;\n",
              "            text-decoration: underline;\n",
              "        }\n",
              "    </style>\n",
              "    <div>\n",
              "        <input type=\"checkbox\" id=\"ipyplot-html-viewer-toggle-iQpyjRCcSYipDf7PvECipw\">\n",
              "        <label id=\"ipyplot-html-viewer-label-iQpyjRCcSYipDf7PvECipw\" for=\"ipyplot-html-viewer-toggle-iQpyjRCcSYipDf7PvECipw\">show html</label>\n",
              "        <textarea id=\"ipyplot-html-viewer-textarea-iQpyjRCcSYipDf7PvECipw\" readonly>\n",
              "            \n",
              "        <style>\n",
              "        #ipyplot-imgs-container-div-cjaZt7zR3DCUKqy6UMLqeu {\n",
              "            width: 100%;\n",
              "            height: 100%;\n",
              "            margin: 0%;\n",
              "            overflow: auto;\n",
              "            position: relative;\n",
              "            overflow-y: scroll;\n",
              "        }\n",
              "\n",
              "        div.ipyplot-placeholder-div-cjaZt7zR3DCUKqy6UMLqeu {\n",
              "            width: 300px;\n",
              "            display: inline-block;\n",
              "            margin: 3px;\n",
              "            position: relative;\n",
              "        }\n",
              "\n",
              "        div.ipyplot-content-div-cjaZt7zR3DCUKqy6UMLqeu {\n",
              "            width: 300px;\n",
              "            background: white;\n",
              "            display: inline-block;\n",
              "            vertical-align: top;\n",
              "            text-align: center;\n",
              "            position: relative;\n",
              "            border: 2px solid #ddd;\n",
              "            top: 0;\n",
              "            left: 0;\n",
              "        }\n",
              "\n",
              "        div.ipyplot-content-div-cjaZt7zR3DCUKqy6UMLqeu span.ipyplot-img-close {\n",
              "            display: none;\n",
              "        }\n",
              "\n",
              "        div.ipyplot-content-div-cjaZt7zR3DCUKqy6UMLqeu span {\n",
              "            width: 100%;\n",
              "            height: 100%;\n",
              "            position: absolute;\n",
              "            top: 0;\n",
              "            left: 0;\n",
              "        }\n",
              "\n",
              "        div.ipyplot-content-div-cjaZt7zR3DCUKqy6UMLqeu img {\n",
              "            width: 300px;\n",
              "        }\n",
              "\n",
              "        div.ipyplot-content-div-cjaZt7zR3DCUKqy6UMLqeu span.ipyplot-img-close:hover {\n",
              "            cursor: zoom-out;\n",
              "        }\n",
              "        div.ipyplot-content-div-cjaZt7zR3DCUKqy6UMLqeu span.ipyplot-img-expand:hover {\n",
              "            cursor: zoom-in;\n",
              "        }\n",
              "\n",
              "        div[id^=ipyplot-content-div-cjaZt7zR3DCUKqy6UMLqeu]:target {\n",
              "            transform: scale(2.5);\n",
              "            transform-origin: left top;\n",
              "            z-index: 5000;\n",
              "            top: 0;\n",
              "            left: 0;\n",
              "            position: absolute;\n",
              "        }\n",
              "\n",
              "        div[id^=ipyplot-content-div-cjaZt7zR3DCUKqy6UMLqeu]:target span.ipyplot-img-close {\n",
              "            display: block;\n",
              "        }\n",
              "\n",
              "        div[id^=ipyplot-content-div-cjaZt7zR3DCUKqy6UMLqeu]:target span.ipyplot-img-expand {\n",
              "            display: none;\n",
              "        }\n",
              "        </style>\n",
              "    <div id=\"ipyplot-imgs-container-div-cjaZt7zR3DCUKqy6UMLqeu\">\n",
              "    <div class=\"ipyplot-placeholder-div-cjaZt7zR3DCUKqy6UMLqeu\">\n",
              "        <div id=\"ipyplot-content-div-cjaZt7zR3DCUKqy6UMLqeu-NnZvYm5DUnDngG6qeswmEz\" class=\"ipyplot-content-div-cjaZt7zR3DCUKqy6UMLqeu\">\n",
              "            <h4 style=\"font-size: 12px; word-wrap: break-word;\">2</h4>\n",
              "            <img src=\"data:image/png;base64,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\"/>\n",
              "            <a href=\"#!\">\n",
              "                <span class=\"ipyplot-img-close\"/>\n",
              "            </a>\n",
              "            <a href=\"#ipyplot-content-div-cjaZt7zR3DCUKqy6UMLqeu-NnZvYm5DUnDngG6qeswmEz\">\n",
              "                <span class=\"ipyplot-img-expand\"/>\n",
              "            </a>\n",
              "        </div>\n",
              "    </div>\n",
              "    \n",
              "    <div class=\"ipyplot-placeholder-div-cjaZt7zR3DCUKqy6UMLqeu\">\n",
              "        <div id=\"ipyplot-content-div-cjaZt7zR3DCUKqy6UMLqeu-KmcJfbuyxLPEbuvbsMDdF7\" class=\"ipyplot-content-div-cjaZt7zR3DCUKqy6UMLqeu\">\n",
              "            <h4 style=\"font-size: 12px; word-wrap: break-word;\">7</h4>\n",
              "            <img src=\"data:image/png;base64,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\"/>\n",
              "            <a href=\"#!\">\n",
              "                <span class=\"ipyplot-img-close\"/>\n",
              "            </a>\n",
              "            <a href=\"#ipyplot-content-div-cjaZt7zR3DCUKqy6UMLqeu-KmcJfbuyxLPEbuvbsMDdF7\">\n",
              "                <span class=\"ipyplot-img-expand\"/>\n",
              "            </a>\n",
              "        </div>\n",
              "    </div>\n",
              "    \n",
              "    <div class=\"ipyplot-placeholder-div-cjaZt7zR3DCUKqy6UMLqeu\">\n",
              "        <div id=\"ipyplot-content-div-cjaZt7zR3DCUKqy6UMLqeu-kQCUvuqy6BCySjJZK5xc84\" class=\"ipyplot-content-div-cjaZt7zR3DCUKqy6UMLqeu\">\n",
              "            <h4 style=\"font-size: 12px; word-wrap: break-word;\">20</h4>\n",
              "            <img src=\"data:image/png;base64,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\"/>\n",
              "            <a href=\"#!\">\n",
              "                <span class=\"ipyplot-img-close\"/>\n",
              "            </a>\n",
              "            <a href=\"#ipyplot-content-div-cjaZt7zR3DCUKqy6UMLqeu-kQCUvuqy6BCySjJZK5xc84\">\n",
              "                <span class=\"ipyplot-img-expand\"/>\n",
              "            </a>\n",
              "        </div>\n",
              "    </div>\n",
              "    </div>\n",
              "        </textarea>\n",
              "    </div>\n",
              "    "
            ],
            "text/plain": [
              "<IPython.core.display.HTML object>"
            ]
          },
          "metadata": {},
          "output_type": "display_data"
        },
        {
          "data": {
            "text/html": [
              "\n",
              "        <style>\n",
              "        #ipyplot-imgs-container-div-cjaZt7zR3DCUKqy6UMLqeu {\n",
              "            width: 100%;\n",
              "            height: 100%;\n",
              "            margin: 0%;\n",
              "            overflow: auto;\n",
              "            position: relative;\n",
              "            overflow-y: scroll;\n",
              "        }\n",
              "\n",
              "        div.ipyplot-placeholder-div-cjaZt7zR3DCUKqy6UMLqeu {\n",
              "            width: 300px;\n",
              "            display: inline-block;\n",
              "            margin: 3px;\n",
              "            position: relative;\n",
              "        }\n",
              "\n",
              "        div.ipyplot-content-div-cjaZt7zR3DCUKqy6UMLqeu {\n",
              "            width: 300px;\n",
              "            background: white;\n",
              "            display: inline-block;\n",
              "            vertical-align: top;\n",
              "            text-align: center;\n",
              "            position: relative;\n",
              "            border: 2px solid #ddd;\n",
              "            top: 0;\n",
              "            left: 0;\n",
              "        }\n",
              "\n",
              "        div.ipyplot-content-div-cjaZt7zR3DCUKqy6UMLqeu span.ipyplot-img-close {\n",
              "            display: none;\n",
              "        }\n",
              "\n",
              "        div.ipyplot-content-div-cjaZt7zR3DCUKqy6UMLqeu span {\n",
              "            width: 100%;\n",
              "            height: 100%;\n",
              "            position: absolute;\n",
              "            top: 0;\n",
              "            left: 0;\n",
              "        }\n",
              "\n",
              "        div.ipyplot-content-div-cjaZt7zR3DCUKqy6UMLqeu img {\n",
              "            width: 300px;\n",
              "        }\n",
              "\n",
              "        div.ipyplot-content-div-cjaZt7zR3DCUKqy6UMLqeu span.ipyplot-img-close:hover {\n",
              "            cursor: zoom-out;\n",
              "        }\n",
              "        div.ipyplot-content-div-cjaZt7zR3DCUKqy6UMLqeu span.ipyplot-img-expand:hover {\n",
              "            cursor: zoom-in;\n",
              "        }\n",
              "\n",
              "        div[id^=ipyplot-content-div-cjaZt7zR3DCUKqy6UMLqeu]:target {\n",
              "            transform: scale(2.5);\n",
              "            transform-origin: left top;\n",
              "            z-index: 5000;\n",
              "            top: 0;\n",
              "            left: 0;\n",
              "            position: absolute;\n",
              "        }\n",
              "\n",
              "        div[id^=ipyplot-content-div-cjaZt7zR3DCUKqy6UMLqeu]:target span.ipyplot-img-close {\n",
              "            display: block;\n",
              "        }\n",
              "\n",
              "        div[id^=ipyplot-content-div-cjaZt7zR3DCUKqy6UMLqeu]:target span.ipyplot-img-expand {\n",
              "            display: none;\n",
              "        }\n",
              "        </style>\n",
              "    <div id=\"ipyplot-imgs-container-div-cjaZt7zR3DCUKqy6UMLqeu\">\n",
              "    <div class=\"ipyplot-placeholder-div-cjaZt7zR3DCUKqy6UMLqeu\">\n",
              "        <div id=\"ipyplot-content-div-cjaZt7zR3DCUKqy6UMLqeu-NnZvYm5DUnDngG6qeswmEz\" class=\"ipyplot-content-div-cjaZt7zR3DCUKqy6UMLqeu\">\n",
              "            <h4 style=\"font-size: 12px; word-wrap: break-word;\">2</h4>\n",
              "            <img src=\"data:image/png;base64,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\"/>\n",
              "            <a href=\"#!\">\n",
              "                <span class=\"ipyplot-img-close\"/>\n",
              "            </a>\n",
              "            <a href=\"#ipyplot-content-div-cjaZt7zR3DCUKqy6UMLqeu-NnZvYm5DUnDngG6qeswmEz\">\n",
              "                <span class=\"ipyplot-img-expand\"/>\n",
              "            </a>\n",
              "        </div>\n",
              "    </div>\n",
              "    \n",
              "    <div class=\"ipyplot-placeholder-div-cjaZt7zR3DCUKqy6UMLqeu\">\n",
              "        <div id=\"ipyplot-content-div-cjaZt7zR3DCUKqy6UMLqeu-KmcJfbuyxLPEbuvbsMDdF7\" class=\"ipyplot-content-div-cjaZt7zR3DCUKqy6UMLqeu\">\n",
              "            <h4 style=\"font-size: 12px; word-wrap: break-word;\">7</h4>\n",
              "            <img src=\"data:image/png;base64,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\"/>\n",
              "            <a href=\"#!\">\n",
              "                <span class=\"ipyplot-img-close\"/>\n",
              "            </a>\n",
              "            <a href=\"#ipyplot-content-div-cjaZt7zR3DCUKqy6UMLqeu-KmcJfbuyxLPEbuvbsMDdF7\">\n",
              "                <span class=\"ipyplot-img-expand\"/>\n",
              "            </a>\n",
              "        </div>\n",
              "    </div>\n",
              "    \n",
              "    <div class=\"ipyplot-placeholder-div-cjaZt7zR3DCUKqy6UMLqeu\">\n",
              "        <div id=\"ipyplot-content-div-cjaZt7zR3DCUKqy6UMLqeu-kQCUvuqy6BCySjJZK5xc84\" class=\"ipyplot-content-div-cjaZt7zR3DCUKqy6UMLqeu\">\n",
              "            <h4 style=\"font-size: 12px; word-wrap: break-word;\">20</h4>\n",
              "            <img src=\"data:image/png;base64,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\"/>\n",
              "            <a href=\"#!\">\n",
              "                <span class=\"ipyplot-img-close\"/>\n",
              "            </a>\n",
              "            <a href=\"#ipyplot-content-div-cjaZt7zR3DCUKqy6UMLqeu-kQCUvuqy6BCySjJZK5xc84\">\n",
              "                <span class=\"ipyplot-img-expand\"/>\n",
              "            </a>\n",
              "        </div>\n",
              "    </div>\n",
              "    </div>"
            ],
            "text/plain": [
              "<IPython.core.display.HTML object>"
            ]
          },
          "metadata": {},
          "output_type": "display_data"
        }
      ],
      "source": [
        "# Analyse how the number of clusters k influence the clusterization\n",
        "np.random.seed(224)\n",
        "\n",
        "final_states = []\n",
        "ks = [2,7,20]  #you can play with the number of clusters by replacing these values \n",
        "for k in ks:\n",
        "  frames_no, centroids_no, assignment_no = kmeans(student_feats,k=k, \n",
        "                                init_policy='random')\n",
        "  final_states.append(frames_no[-1])\n",
        "\n",
        "plot_final_states(final_states, ks)"
      ]
    },
    {
      "cell_type": "markdown",
      "metadata": {
        "id": "AWYxp-z0tMB5"
      },
      "source": [
        "## Elbow points"
      ]
    },
    {
      "cell_type": "code",
      "execution_count": null,
      "metadata": {
        "colab": {
          "base_uri": "https://localhost:8080/"
        },
        "id": "aIbdQGj2-weG",
        "outputId": "8a93a5db-b748-4976-dfc2-de745afba458"
      },
      "outputs": [
        {
          "name": "stdout",
          "output_type": "stream",
          "text": [
            "Looking in indexes: https://pypi.org/simple, https://us-python.pkg.dev/colab-wheels/public/simple/\n",
            "Requirement already satisfied: kneed in /usr/local/lib/python3.8/dist-packages (0.8.1)\n",
            "Requirement already satisfied: numpy>=1.14.2 in /usr/local/lib/python3.8/dist-packages (from kneed) (1.21.6)\n",
            "Requirement already satisfied: scipy>=1.0.0 in /usr/local/lib/python3.8/dist-packages (from kneed) (1.7.3)\n"
          ]
        }
      ],
      "source": [
        "!pip install kneed"
      ]
    },
    {
      "cell_type": "code",
      "execution_count": null,
      "metadata": {
        "id": "NctV5UIQ9PUd"
      },
      "outputs": [],
      "source": [
        "from sklearn.cluster import KMeans\n",
        "from kneed import KneeLocator\n",
        "\n"
      ]
    },
    {
      "cell_type": "code",
      "execution_count": null,
      "metadata": {
        "id": "Gu_PFfyQ9tcb"
      },
      "outputs": [],
      "source": [
        "sse = []\n",
        "for k in range(1, 11):\n",
        "   kmeans1 = KMeans(\n",
        "        init=\"random\",\n",
        "        n_clusters=k,\n",
        "        n_init=10,\n",
        "        max_iter=300,\n",
        "        random_state=42\n",
        "   )\n",
        "   kmeans1.fit(student_feats)\n",
        "   sse.append(kmeans1.inertia_)"
      ]
    },
    {
      "cell_type": "code",
      "execution_count": null,
      "metadata": {
        "colab": {
          "base_uri": "https://localhost:8080/"
        },
        "id": "vZ0CI3Xf-XNi",
        "outputId": "6da257e9-5e49-495d-f718-51b0399030af"
      },
      "outputs": [
        {
          "data": {
            "image/png": "[encoded data removed]",
            "text/plain": [
              "<Figure size 432x288 with 1 Axes>"
            ]
          },
          "metadata": {},
          "output_type": "display_data"
        }
      ],
      "source": [
        "plt.style.use(\"fivethirtyeight\")\n",
        "plt.plot(range(1, 11), sse)\n",
        "plt.xticks(range(1, 11))\n",
        "plt.xlabel(\"Number of Clusters\")\n",
        "plt.ylabel(\"SSE\")\n",
        "plt.show()"
      ]
    },
    {
      "cell_type": "code",
      "execution_count": null,
      "metadata": {
        "colab": {
          "base_uri": "https://localhost:8080/"
        },
        "id": "408IoL7_-lky",
        "outputId": "63ce701e-103c-438b-973c-720621f52c62"
      },
      "outputs": [
        {
          "data": {
            "text/plain": [
              "4"
            ]
          },
          "execution_count": 49,
          "metadata": {},
          "output_type": "execute_result"
        }
      ],
      "source": [
        "kl = KneeLocator(range(1, 11), sse, curve=\"convex\", direction=\"decreasing\")\n",
        "kl.elbow"
      ]
    },
    {
      "cell_type": "code",
      "execution_count": null,
      "metadata": {
        "id": "2xn66z80-8z6"
      },
      "outputs": [],
      "source": [
        "kmeans1 = KMeans(\n",
        "        init=\"random\",\n",
        "        n_clusters=4,\n",
        "        n_init=10,\n",
        "        max_iter=300,\n",
        "        random_state=42\n",
        "   )\n",
        "\n",
        "label = kmeans1.fit_predict(student_feats)"
      ]
    },
    {
      "cell_type": "code",
      "execution_count": null,
      "metadata": {
        "colab": {
          "base_uri": "https://localhost:8080/"
        },
        "id": "RGvCV-N3_kzr",
        "outputId": "d6c9dc37-5c0e-4fb8-fade-82461c5cc8ff"
      },
      "outputs": [
        {
          "data": {
            "text/plain": [
              "(40, 2)"
            ]
          },
          "execution_count": 51,
          "metadata": {},
          "output_type": "execute_result"
        }
      ],
      "source": [
        "student_feats.shape"
      ]
    },
    {
      "cell_type": "code",
      "execution_count": null,
      "metadata": {
        "id": "_YTCXovR_V9W"
      },
      "outputs": [],
      "source": [
        "import pandas as pd\n",
        "\n",
        "df = pd.DataFrame(data={'age' : student_feats[:,0], 'pers': student_feats[:,1]})\n",
        "df['label'] = label"
      ]
    },
    {
      "cell_type": "code",
      "execution_count": null,
      "metadata": {
        "colab": {
          "base_uri": "https://localhost:8080/"
        },
        "id": "khXKMpzE_oca",
        "outputId": "ff9a506b-0afe-4e17-d39b-83d3e0a1993d"
      },
      "outputs": [
        {
          "name": "stderr",
          "output_type": "stream",
          "text": [
            "WARNING:matplotlib.legend:No handles with labels found to put in legend.\n"
          ]
        },
        {
          "data": {
            "image/png": "[encoded data removed]",
            "text/plain": [
              "<Figure size 432x288 with 1 Axes>"
            ]
          },
          "metadata": {},
          "output_type": "display_data"
        }
      ],
      "source": [
        "u_labels = np.unique(label)\n",
        "\n",
        "for i in u_labels:\n",
        "    plt.scatter(df[df['label'] == i]['age'] , df[df['label'] == i]['pers'] , c=list(map(lambda x: 'r' if x==0 else 'b' if x ==1 else 'y' if x==2 else 'g', (df[df['label'] == i]['label']))))\n",
        "plt.legend()\n",
        "plt.show()"
      ]
    },
    {
      "cell_type": "markdown",
      "metadata": {
        "id": "2_3Ll5ZdxOsV"
      },
      "source": [
        "##Inițializarea centroizilor\n",
        "\n",
        "Exemple de inițializare irelevantă, chiar \"nefericită\" am putea spune, a centrozilor:\n",
        "*   cei K centroizi generați aleator coincid sau o parte dintre centroizi coincid ceea ce va conduce la un număr mai mic de clustere (numărul de centroizi diferiti), în cazul în care toți coincid vom avea un singur cluster \n",
        "*   cei K centroizi generați aleator nu acoperă relevant zona datelor. Dacă avem centroizi la distanță mică unul de celălalt (comparativ cu distantele la care se află datele), clusterele pe care le reprezintă se vor unifica după mai multe iterații \n",
        "\n",
        "Initializărea centrozilor influențează și rapiditatea cu care converge algoritmul K-means. Altfel spus, o inițializare bună înseamnă mai puține iterații ale algoritmului, prin urmare o eficiență ca timp mai bună.\n",
        "\n",
        "Analiza vizuală a influenței inițializării centroizilor asupra grupării datelor: "
      ]
    },
    {
      "cell_type": "code",
      "execution_count": null,
      "metadata": {
        "colab": {
          "base_uri": "https://localhost:8080/",
          "height": 749
        },
        "id": "WAUYhkg4EoeM",
        "outputId": "4eaa569d-46c4-44a6-88d7-8751feb61c3c"
      },
      "outputs": [
        {
          "data": {
            "text/html": [
              "\n",
              "    <style>\n",
              "        #ipyplot-html-viewer-toggle-g7DGbwMKBLDsbid9U9ChC2 {\n",
              "            position: absolute;\n",
              "            top: -9999px;\n",
              "            left: -9999px;\n",
              "            visibility: hidden;\n",
              "        }\n",
              "\n",
              "        #ipyplot-html-viewer-label-g7DGbwMKBLDsbid9U9ChC2 { \n",
              "            position: relative;\n",
              "            display: inline-block;\n",
              "            cursor: pointer;\n",
              "            color: blue;\n",
              "            text-decoration: underline;\n",
              "        }\n",
              "\n",
              "        #ipyplot-html-viewer-textarea-g7DGbwMKBLDsbid9U9ChC2 {\n",
              "            background: lightgrey;\n",
              "            width: 100%;\n",
              "            height: 0px;\n",
              "            display: none;\n",
              "        }\n",
              "\n",
              "        #ipyplot-html-viewer-toggle-g7DGbwMKBLDsbid9U9ChC2:checked ~ #ipyplot-html-viewer-textarea-g7DGbwMKBLDsbid9U9ChC2 {\n",
              "            height: 200px;\n",
              "            display: block;\n",
              "        }\n",
              "\n",
              "        #ipyplot-html-viewer-toggle-g7DGbwMKBLDsbid9U9ChC2:checked + #ipyplot-html-viewer-label-g7DGbwMKBLDsbid9U9ChC2:after {\n",
              "            content: \"hide html\";\n",
              "            position: absolute;\n",
              "            top: 0;\n",
              "            left: 0;\n",
              "            right: 0;\n",
              "            bottom: 0;\n",
              "            background: white;\n",
              "            cursor: pointer;\n",
              "            color: blue;\n",
              "            text-decoration: underline;\n",
              "        }\n",
              "    </style>\n",
              "    <div>\n",
              "        <input type=\"checkbox\" id=\"ipyplot-html-viewer-toggle-g7DGbwMKBLDsbid9U9ChC2\">\n",
              "        <label id=\"ipyplot-html-viewer-label-g7DGbwMKBLDsbid9U9ChC2\" for=\"ipyplot-html-viewer-toggle-g7DGbwMKBLDsbid9U9ChC2\">show html</label>\n",
              "        <textarea id=\"ipyplot-html-viewer-textarea-g7DGbwMKBLDsbid9U9ChC2\" readonly>\n",
              "            \n",
              "        <style>\n",
              "        #ipyplot-imgs-container-div-PPkyeCpQKRuX35ryTjJojP {\n",
              "            width: 100%;\n",
              "            height: 100%;\n",
              "            margin: 0%;\n",
              "            overflow: auto;\n",
              "            position: relative;\n",
              "            overflow-y: scroll;\n",
              "        }\n",
              "\n",
              "        div.ipyplot-placeholder-div-PPkyeCpQKRuX35ryTjJojP {\n",
              "            width: 300px;\n",
              "            display: inline-block;\n",
              "            margin: 3px;\n",
              "            position: relative;\n",
              "        }\n",
              "\n",
              "        div.ipyplot-content-div-PPkyeCpQKRuX35ryTjJojP {\n",
              "            width: 300px;\n",
              "            background: white;\n",
              "            display: inline-block;\n",
              "            vertical-align: top;\n",
              "            text-align: center;\n",
              "            position: relative;\n",
              "            border: 2px solid #ddd;\n",
              "            top: 0;\n",
              "            left: 0;\n",
              "        }\n",
              "\n",
              "        div.ipyplot-content-div-PPkyeCpQKRuX35ryTjJojP span.ipyplot-img-close {\n",
              "            display: none;\n",
              "        }\n",
              "\n",
              "        div.ipyplot-content-div-PPkyeCpQKRuX35ryTjJojP span {\n",
              "            width: 100%;\n",
              "            height: 100%;\n",
              "            position: absolute;\n",
              "            top: 0;\n",
              "            left: 0;\n",
              "        }\n",
              "\n",
              "        div.ipyplot-content-div-PPkyeCpQKRuX35ryTjJojP img {\n",
              "            width: 300px;\n",
              "        }\n",
              "\n",
              "        div.ipyplot-content-div-PPkyeCpQKRuX35ryTjJojP span.ipyplot-img-close:hover {\n",
              "            cursor: zoom-out;\n",
              "        }\n",
              "        div.ipyplot-content-div-PPkyeCpQKRuX35ryTjJojP span.ipyplot-img-expand:hover {\n",
              "            cursor: zoom-in;\n",
              "        }\n",
              "\n",
              "        div[id^=ipyplot-content-div-PPkyeCpQKRuX35ryTjJojP]:target {\n",
              "            transform: scale(2.5);\n",
              "            transform-origin: left top;\n",
              "            z-index: 5000;\n",
              "            top: 0;\n",
              "            left: 0;\n",
              "            position: absolute;\n",
              "        }\n",
              "\n",
              "        div[id^=ipyplot-content-div-PPkyeCpQKRuX35ryTjJojP]:target span.ipyplot-img-close {\n",
              "            display: block;\n",
              "        }\n",
              "\n",
              "        div[id^=ipyplot-content-div-PPkyeCpQKRuX35ryTjJojP]:target span.ipyplot-img-expand {\n",
              "            display: none;\n",
              "        }\n",
              "        </style>\n",
              "    <div id=\"ipyplot-imgs-container-div-PPkyeCpQKRuX35ryTjJojP\">\n",
              "    <div class=\"ipyplot-placeholder-div-PPkyeCpQKRuX35ryTjJojP\">\n",
              "        <div id=\"ipyplot-content-div-PPkyeCpQKRuX35ryTjJojP-WCVuNRrWwX9SSaFntYSSDy\" class=\"ipyplot-content-div-PPkyeCpQKRuX35ryTjJojP\">\n",
              "            <h4 style=\"font-size: 12px; word-wrap: break-word;\">step_initial_good_init</h4>\n",
              "            <img src=\"data:image/png;base64,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\"/>\n",
              "            <a href=\"#!\">\n",
              "                <span class=\"ipyplot-img-close\"/>\n",
              "            </a>\n",
              "            <a href=\"#ipyplot-content-div-PPkyeCpQKRuX35ryTjJojP-WCVuNRrWwX9SSaFntYSSDy\">\n",
              "                <span class=\"ipyplot-img-expand\"/>\n",
              "            </a>\n",
              "        </div>\n",
              "    </div>\n",
              "    \n",
              "    <div class=\"ipyplot-placeholder-div-PPkyeCpQKRuX35ryTjJojP\">\n",
              "        <div id=\"ipyplot-content-div-PPkyeCpQKRuX35ryTjJojP-A7UTWEVhoMKR9twUjTKza5\" class=\"ipyplot-content-div-PPkyeCpQKRuX35ryTjJojP\">\n",
              "            <h4 style=\"font-size: 12px; word-wrap: break-word;\">step_initial_bad_init</h4>\n",
              "            <img src=\"data:image/png;base64,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\"/>\n",
              "            <a href=\"#!\">\n",
              "                <span class=\"ipyplot-img-close\"/>\n",
              "            </a>\n",
              "            <a href=\"#ipyplot-content-div-PPkyeCpQKRuX35ryTjJojP-A7UTWEVhoMKR9twUjTKza5\">\n",
              "                <span class=\"ipyplot-img-expand\"/>\n",
              "            </a>\n",
              "        </div>\n",
              "    </div>\n",
              "    </div>\n",
              "        </textarea>\n",
              "    </div>\n",
              "    "
            ],
            "text/plain": [
              "<IPython.core.display.HTML object>"
            ]
          },
          "metadata": {},
          "output_type": "display_data"
        },
        {
          "data": {
            "text/html": [
              "\n",
              "        <style>\n",
              "        #ipyplot-imgs-container-div-PPkyeCpQKRuX35ryTjJojP {\n",
              "            width: 100%;\n",
              "            height: 100%;\n",
              "            margin: 0%;\n",
              "            overflow: auto;\n",
              "            position: relative;\n",
              "            overflow-y: scroll;\n",
              "        }\n",
              "\n",
              "        div.ipyplot-placeholder-div-PPkyeCpQKRuX35ryTjJojP {\n",
              "            width: 300px;\n",
              "            display: inline-block;\n",
              "            margin: 3px;\n",
              "            position: relative;\n",
              "        }\n",
              "\n",
              "        div.ipyplot-content-div-PPkyeCpQKRuX35ryTjJojP {\n",
              "            width: 300px;\n",
              "            background: white;\n",
              "            display: inline-block;\n",
              "            vertical-align: top;\n",
              "            text-align: center;\n",
              "            position: relative;\n",
              "            border: 2px solid #ddd;\n",
              "            top: 0;\n",
              "            left: 0;\n",
              "        }\n",
              "\n",
              "        div.ipyplot-content-div-PPkyeCpQKRuX35ryTjJojP span.ipyplot-img-close {\n",
              "            display: none;\n",
              "        }\n",
              "\n",
              "        div.ipyplot-content-div-PPkyeCpQKRuX35ryTjJojP span {\n",
              "            width: 100%;\n",
              "            height: 100%;\n",
              "            position: absolute;\n",
              "            top: 0;\n",
              "            left: 0;\n",
              "        }\n",
              "\n",
              "        div.ipyplot-content-div-PPkyeCpQKRuX35ryTjJojP img {\n",
              "            width: 300px;\n",
              "        }\n",
              "\n",
              "        div.ipyplot-content-div-PPkyeCpQKRuX35ryTjJojP span.ipyplot-img-close:hover {\n",
              "            cursor: zoom-out;\n",
              "        }\n",
              "        div.ipyplot-content-div-PPkyeCpQKRuX35ryTjJojP span.ipyplot-img-expand:hover {\n",
              "            cursor: zoom-in;\n",
              "        }\n",
              "\n",
              "        div[id^=ipyplot-content-div-PPkyeCpQKRuX35ryTjJojP]:target {\n",
              "            transform: scale(2.5);\n",
              "            transform-origin: left top;\n",
              "            z-index: 5000;\n",
              "            top: 0;\n",
              "            left: 0;\n",
              "            position: absolute;\n",
              "        }\n",
              "\n",
              "        div[id^=ipyplot-content-div-PPkyeCpQKRuX35ryTjJojP]:target span.ipyplot-img-close {\n",
              "            display: block;\n",
              "        }\n",
              "\n",
              "        div[id^=ipyplot-content-div-PPkyeCpQKRuX35ryTjJojP]:target span.ipyplot-img-expand {\n",
              "            display: none;\n",
              "        }\n",
              "        </style>\n",
              "    <div id=\"ipyplot-imgs-container-div-PPkyeCpQKRuX35ryTjJojP\">\n",
              "    <div class=\"ipyplot-placeholder-div-PPkyeCpQKRuX35ryTjJojP\">\n",
              "        <div id=\"ipyplot-content-div-PPkyeCpQKRuX35ryTjJojP-WCVuNRrWwX9SSaFntYSSDy\" class=\"ipyplot-content-div-PPkyeCpQKRuX35ryTjJojP\">\n",
              "            <h4 style=\"font-size: 12px; word-wrap: break-word;\">step_initial_good_init</h4>\n",
              "            <img src=\"data:image/png;base64,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\"/>\n",
              "            <a href=\"#!\">\n",
              "                <span class=\"ipyplot-img-close\"/>\n",
              "            </a>\n",
              "            <a href=\"#ipyplot-content-div-PPkyeCpQKRuX35ryTjJojP-WCVuNRrWwX9SSaFntYSSDy\">\n",
              "                <span class=\"ipyplot-img-expand\"/>\n",
              "            </a>\n",
              "        </div>\n",
              "    </div>\n",
              "    \n",
              "    <div class=\"ipyplot-placeholder-div-PPkyeCpQKRuX35ryTjJojP\">\n",
              "        <div id=\"ipyplot-content-div-PPkyeCpQKRuX35ryTjJojP-A7UTWEVhoMKR9twUjTKza5\" class=\"ipyplot-content-div-PPkyeCpQKRuX35ryTjJojP\">\n",
              "            <h4 style=\"font-size: 12px; word-wrap: break-word;\">step_initial_bad_init</h4>\n",
              "            <img src=\"data:image/png;base64,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\"/>\n",
              "            <a href=\"#!\">\n",
              "                <span class=\"ipyplot-img-close\"/>\n",
              "            </a>\n",
              "            <a href=\"#ipyplot-content-div-PPkyeCpQKRuX35ryTjJojP-A7UTWEVhoMKR9twUjTKza5\">\n",
              "                <span class=\"ipyplot-img-expand\"/>\n",
              "            </a>\n",
              "        </div>\n",
              "    </div>\n",
              "    </div>"
            ],
            "text/plain": [
              "<IPython.core.display.HTML object>"
            ]
          },
          "metadata": {},
          "output_type": "display_data"
        },
        {
          "data": {
            "text/html": [
              "\n",
              "    <style>\n",
              "        #ipyplot-html-viewer-toggle-BXJiw4xbLjdeNAYcJZvdqN {\n",
              "            position: absolute;\n",
              "            top: -9999px;\n",
              "            left: -9999px;\n",
              "            visibility: hidden;\n",
              "        }\n",
              "\n",
              "        #ipyplot-html-viewer-label-BXJiw4xbLjdeNAYcJZvdqN { \n",
              "            position: relative;\n",
              "            display: inline-block;\n",
              "            cursor: pointer;\n",
              "            color: blue;\n",
              "            text-decoration: underline;\n",
              "        }\n",
              "\n",
              "        #ipyplot-html-viewer-textarea-BXJiw4xbLjdeNAYcJZvdqN {\n",
              "            background: lightgrey;\n",
              "            width: 100%;\n",
              "            height: 0px;\n",
              "            display: none;\n",
              "        }\n",
              "\n",
              "        #ipyplot-html-viewer-toggle-BXJiw4xbLjdeNAYcJZvdqN:checked ~ #ipyplot-html-viewer-textarea-BXJiw4xbLjdeNAYcJZvdqN {\n",
              "            height: 200px;\n",
              "            display: block;\n",
              "        }\n",
              "\n",
              "        #ipyplot-html-viewer-toggle-BXJiw4xbLjdeNAYcJZvdqN:checked + #ipyplot-html-viewer-label-BXJiw4xbLjdeNAYcJZvdqN:after {\n",
              "            content: \"hide html\";\n",
              "            position: absolute;\n",
              "            top: 0;\n",
              "            left: 0;\n",
              "            right: 0;\n",
              "            bottom: 0;\n",
              "            background: white;\n",
              "            cursor: pointer;\n",
              "            color: blue;\n",
              "            text-decoration: underline;\n",
              "        }\n",
              "    </style>\n",
              "    <div>\n",
              "        <input type=\"checkbox\" id=\"ipyplot-html-viewer-toggle-BXJiw4xbLjdeNAYcJZvdqN\">\n",
              "        <label id=\"ipyplot-html-viewer-label-BXJiw4xbLjdeNAYcJZvdqN\" for=\"ipyplot-html-viewer-toggle-BXJiw4xbLjdeNAYcJZvdqN\">show html</label>\n",
              "        <textarea id=\"ipyplot-html-viewer-textarea-BXJiw4xbLjdeNAYcJZvdqN\" readonly>\n",
              "            \n",
              "        <style>\n",
              "        #ipyplot-imgs-container-div-azc4CyS2NowNMZhVGsLNao {\n",
              "            width: 100%;\n",
              "            height: 100%;\n",
              "            margin: 0%;\n",
              "            overflow: auto;\n",
              "            position: relative;\n",
              "            overflow-y: scroll;\n",
              "        }\n",
              "\n",
              "        div.ipyplot-placeholder-div-azc4CyS2NowNMZhVGsLNao {\n",
              "            width: 300px;\n",
              "            display: inline-block;\n",
              "            margin: 3px;\n",
              "            position: relative;\n",
              "        }\n",
              "\n",
              "        div.ipyplot-content-div-azc4CyS2NowNMZhVGsLNao {\n",
              "            width: 300px;\n",
              "            background: white;\n",
              "            display: inline-block;\n",
              "            vertical-align: top;\n",
              "            text-align: center;\n",
              "            position: relative;\n",
              "            border: 2px solid #ddd;\n",
              "            top: 0;\n",
              "            left: 0;\n",
              "        }\n",
              "\n",
              "        div.ipyplot-content-div-azc4CyS2NowNMZhVGsLNao span.ipyplot-img-close {\n",
              "            display: none;\n",
              "        }\n",
              "\n",
              "        div.ipyplot-content-div-azc4CyS2NowNMZhVGsLNao span {\n",
              "            width: 100%;\n",
              "            height: 100%;\n",
              "            position: absolute;\n",
              "            top: 0;\n",
              "            left: 0;\n",
              "        }\n",
              "\n",
              "        div.ipyplot-content-div-azc4CyS2NowNMZhVGsLNao img {\n",
              "            width: 300px;\n",
              "        }\n",
              "\n",
              "        div.ipyplot-content-div-azc4CyS2NowNMZhVGsLNao span.ipyplot-img-close:hover {\n",
              "            cursor: zoom-out;\n",
              "        }\n",
              "        div.ipyplot-content-div-azc4CyS2NowNMZhVGsLNao span.ipyplot-img-expand:hover {\n",
              "            cursor: zoom-in;\n",
              "        }\n",
              "\n",
              "        div[id^=ipyplot-content-div-azc4CyS2NowNMZhVGsLNao]:target {\n",
              "            transform: scale(2.5);\n",
              "            transform-origin: left top;\n",
              "            z-index: 5000;\n",
              "            top: 0;\n",
              "            left: 0;\n",
              "            position: absolute;\n",
              "        }\n",
              "\n",
              "        div[id^=ipyplot-content-div-azc4CyS2NowNMZhVGsLNao]:target span.ipyplot-img-close {\n",
              "            display: block;\n",
              "        }\n",
              "\n",
              "        div[id^=ipyplot-content-div-azc4CyS2NowNMZhVGsLNao]:target span.ipyplot-img-expand {\n",
              "            display: none;\n",
              "        }\n",
              "        </style>\n",
              "    <div id=\"ipyplot-imgs-container-div-azc4CyS2NowNMZhVGsLNao\">\n",
              "    <div class=\"ipyplot-placeholder-div-azc4CyS2NowNMZhVGsLNao\">\n",
              "        <div id=\"ipyplot-content-div-azc4CyS2NowNMZhVGsLNao-AhxHjfqJW2zfaBvVDcT5fs\" class=\"ipyplot-content-div-azc4CyS2NowNMZhVGsLNao\">\n",
              "            <h4 style=\"font-size: 12px; word-wrap: break-word;\">step_final_good_init</h4>\n",
              "            <img src=\"data:image/png;base64,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\"/>\n",
              "            <a href=\"#!\">\n",
              "                <span class=\"ipyplot-img-close\"/>\n",
              "            </a>\n",
              "            <a href=\"#ipyplot-content-div-azc4CyS2NowNMZhVGsLNao-AhxHjfqJW2zfaBvVDcT5fs\">\n",
              "                <span class=\"ipyplot-img-expand\"/>\n",
              "            </a>\n",
              "        </div>\n",
              "    </div>\n",
              "    \n",
              "    <div class=\"ipyplot-placeholder-div-azc4CyS2NowNMZhVGsLNao\">\n",
              "        <div id=\"ipyplot-content-div-azc4CyS2NowNMZhVGsLNao-af5GyJjGSJfgMQuhLzBYMf\" class=\"ipyplot-content-div-azc4CyS2NowNMZhVGsLNao\">\n",
              "            <h4 style=\"font-size: 12px; word-wrap: break-word;\">step_final_bad_init</h4>\n",
              "            <img src=\"data:image/png;base64,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\"/>\n",
              "            <a href=\"#!\">\n",
              "                <span class=\"ipyplot-img-close\"/>\n",
              "            </a>\n",
              "            <a href=\"#ipyplot-content-div-azc4CyS2NowNMZhVGsLNao-af5GyJjGSJfgMQuhLzBYMf\">\n",
              "                <span class=\"ipyplot-img-expand\"/>\n",
              "            </a>\n",
              "        </div>\n",
              "    </div>\n",
              "    </div>\n",
              "        </textarea>\n",
              "    </div>\n",
              "    "
            ],
            "text/plain": [
              "<IPython.core.display.HTML object>"
            ]
          },
          "metadata": {},
          "output_type": "display_data"
        },
        {
          "data": {
            "text/html": [
              "\n",
              "        <style>\n",
              "        #ipyplot-imgs-container-div-azc4CyS2NowNMZhVGsLNao {\n",
              "            width: 100%;\n",
              "            height: 100%;\n",
              "            margin: 0%;\n",
              "            overflow: auto;\n",
              "            position: relative;\n",
              "            overflow-y: scroll;\n",
              "        }\n",
              "\n",
              "        div.ipyplot-placeholder-div-azc4CyS2NowNMZhVGsLNao {\n",
              "            width: 300px;\n",
              "            display: inline-block;\n",
              "            margin: 3px;\n",
              "            position: relative;\n",
              "        }\n",
              "\n",
              "        div.ipyplot-content-div-azc4CyS2NowNMZhVGsLNao {\n",
              "            width: 300px;\n",
              "            background: white;\n",
              "            display: inline-block;\n",
              "            vertical-align: top;\n",
              "            text-align: center;\n",
              "            position: relative;\n",
              "            border: 2px solid #ddd;\n",
              "            top: 0;\n",
              "            left: 0;\n",
              "        }\n",
              "\n",
              "        div.ipyplot-content-div-azc4CyS2NowNMZhVGsLNao span.ipyplot-img-close {\n",
              "            display: none;\n",
              "        }\n",
              "\n",
              "        div.ipyplot-content-div-azc4CyS2NowNMZhVGsLNao span {\n",
              "            width: 100%;\n",
              "            height: 100%;\n",
              "            position: absolute;\n",
              "            top: 0;\n",
              "            left: 0;\n",
              "        }\n",
              "\n",
              "        div.ipyplot-content-div-azc4CyS2NowNMZhVGsLNao img {\n",
              "            width: 300px;\n",
              "        }\n",
              "\n",
              "        div.ipyplot-content-div-azc4CyS2NowNMZhVGsLNao span.ipyplot-img-close:hover {\n",
              "            cursor: zoom-out;\n",
              "        }\n",
              "        div.ipyplot-content-div-azc4CyS2NowNMZhVGsLNao span.ipyplot-img-expand:hover {\n",
              "            cursor: zoom-in;\n",
              "        }\n",
              "\n",
              "        div[id^=ipyplot-content-div-azc4CyS2NowNMZhVGsLNao]:target {\n",
              "            transform: scale(2.5);\n",
              "            transform-origin: left top;\n",
              "            z-index: 5000;\n",
              "            top: 0;\n",
              "            left: 0;\n",
              "            position: absolute;\n",
              "        }\n",
              "\n",
              "        div[id^=ipyplot-content-div-azc4CyS2NowNMZhVGsLNao]:target span.ipyplot-img-close {\n",
              "            display: block;\n",
              "        }\n",
              "\n",
              "        div[id^=ipyplot-content-div-azc4CyS2NowNMZhVGsLNao]:target span.ipyplot-img-expand {\n",
              "            display: none;\n",
              "        }\n",
              "        </style>\n",
              "    <div id=\"ipyplot-imgs-container-div-azc4CyS2NowNMZhVGsLNao\">\n",
              "    <div class=\"ipyplot-placeholder-div-azc4CyS2NowNMZhVGsLNao\">\n",
              "        <div id=\"ipyplot-content-div-azc4CyS2NowNMZhVGsLNao-AhxHjfqJW2zfaBvVDcT5fs\" class=\"ipyplot-content-div-azc4CyS2NowNMZhVGsLNao\">\n",
              "            <h4 style=\"font-size: 12px; word-wrap: break-word;\">step_final_good_init</h4>\n",
              "            <img src=\"data:image/png;base64,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\"/>\n",
              "            <a href=\"#!\">\n",
              "                <span class=\"ipyplot-img-close\"/>\n",
              "            </a>\n",
              "            <a href=\"#ipyplot-content-div-azc4CyS2NowNMZhVGsLNao-AhxHjfqJW2zfaBvVDcT5fs\">\n",
              "                <span class=\"ipyplot-img-expand\"/>\n",
              "            </a>\n",
              "        </div>\n",
              "    </div>\n",
              "    \n",
              "    <div class=\"ipyplot-placeholder-div-azc4CyS2NowNMZhVGsLNao\">\n",
              "        <div id=\"ipyplot-content-div-azc4CyS2NowNMZhVGsLNao-af5GyJjGSJfgMQuhLzBYMf\" class=\"ipyplot-content-div-azc4CyS2NowNMZhVGsLNao\">\n",
              "            <h4 style=\"font-size: 12px; word-wrap: break-word;\">step_final_bad_init</h4>\n",
              "            <img src=\"data:image/png;base64,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\"/>\n",
              "            <a href=\"#!\">\n",
              "                <span class=\"ipyplot-img-close\"/>\n",
              "            </a>\n",
              "            <a href=\"#ipyplot-content-div-azc4CyS2NowNMZhVGsLNao-af5GyJjGSJfgMQuhLzBYMf\">\n",
              "                <span class=\"ipyplot-img-expand\"/>\n",
              "            </a>\n",
              "        </div>\n",
              "    </div>\n",
              "    </div>"
            ],
            "text/plain": [
              "<IPython.core.display.HTML object>"
            ]
          },
          "metadata": {},
          "output_type": "display_data"
        }
      ],
      "source": [
        "#Analyse the impact of the initialization for the final clustering configuration.\n",
        "#When we initilize two centroid too close to each other, their clusters will collaps.\n",
        "#(it should be 4 clusters but two of them contains the same elements)\n",
        "\n",
        "init_centroids_good = np.array([[ 17.3,  15.5], [ 20, 8.7],\n",
        "                          [12.5, 13.4], [8.6, 20.3]])\n",
        "frames_good, centroids_good, assignment_good = kmeans(student_feats,k=4, \n",
        "          init_policy='custom', init_centroids=init_centroids_good)\n",
        "\n",
        "# init_centroids_bad = np.array([[0, -15], [-15, -10], [-5, 5], [-5.00001, 5]])\n",
        "# frames_bad, centroids_bad, assignment_bad = kmeans(student_feats,k=4, \n",
        "#           init_policy='custom', init_centroids=init_centroids_bad)\n",
        "init_centroids_bad = np.array([[15, 0], [0, 5], [10, 20], [10.0000000000000001, 20]])\n",
        "frames_bad, centroids_bad, assignment_bad = kmeans(student_feats,k=4, \n",
        "          init_policy='custom', init_centroids=init_centroids_bad)\n",
        "\n",
        "frames_init_good = plot_centroids(student_feats, init_centroids_good)\n",
        "frames_init_bad = plot_centroids(student_feats, init_centroids_bad)\n",
        "\n",
        "plot_final_states([frames_init_good, frames_init_bad], ['step_initial_good_init', 'step_initial_bad_init'])\n",
        "plot_final_states([frames_good[-1], frames_bad[-1]], ['step_final_good_init', 'step_final_bad_init'])"
      ]
    },
    {
      "cell_type": "markdown",
      "metadata": {
        "id": "fDFzaQ7DeiY8"
      },
      "source": [
        "Referitor la inițializarea centroizilor, in practica se pot folosi diferite metode pentru a evita probleme mentionate mai sus:\n",
        "*   soluții inteligente/informate de a distribui centroizii bazate pe analizarea regiunii datelor\n",
        "*   rularea algortmului de mai multe ori cu inițializări aleatoare diferite și alegerea celei mai bune soluții\n"
      ]
    },
    {
      "cell_type": "markdown",
      "metadata": {
        "id": "vKDigOhLFDTO"
      },
      "source": [
        "##Setul de date\n",
        "\n",
        "Sunt situații în care chiar și pentru o alegere potrivită a numărului de clustere și o inițializare relevantă a centroizilor, gruparea datelor în clustere prin aplicarea algoritmului K-means nu este cea așteptată.\n",
        "\n",
        "Unul dintre obiectivele algoritmului K-means este acela de a partiționa spațiul datelor în zone convexe.\n",
        "\n",
        "Ne reamintim că o regiune este convexă dacă și numai dacă orice punct de pe segmentul care unește două puncte din regiunea menționată face parte, de asemenea, din regiune. Convexitatea are implicații, atât algebrice, cât și geometrice.\n",
        " <img src=\"https://drive.google.com/uc?export=view&id=1waejnRUcbl1EbBzhK6iOrPCIudY3l38X\" height=\"200\">\n",
        "\n",
        "Algoritmul K-means va împărți întotdeauna spațiul în regiuni convexe, fiecare regiune corespunzând unui cluster. Prin urmare, dacă partiționarea reală a datelor corespunde unor regiuni care nu sunt convexe, algoritmul K-means nu le va putea identifica. În schimb, va găsi cea mai apropiată descompunere a spațiului în regiuni convexe. \n",
        "\n",
        "\n",
        "\n"
      ]
    },
    {
      "cell_type": "code",
      "execution_count": null,
      "metadata": {
        "colab": {
          "base_uri": "https://localhost:8080/",
          "height": 420
        },
        "id": "KYoLYRK9GtA1",
        "outputId": "fc4943b7-e7f4-434f-c64f-d6d8b440cf26"
      },
      "outputs": [
        {
          "data": {
            "image/png": "[encoded data removed]",
            "text/plain": [
              "<Figure size 432x432 with 1 Axes>"
            ]
          },
          "metadata": {},
          "output_type": "display_data"
        }
      ],
      "source": [
        "# Execute this cell to generate some non-convex data and then plot it.\n",
        "# Generate syntetic data.\n",
        "nonconvex_feats = generate_nonconvex_data(n_samples=40, n_feats=2)\n",
        "plot_data(nonconvex_feats)"
      ]
    },
    {
      "cell_type": "markdown",
      "metadata": {
        "id": "Vp7QIPaVHBIT"
      },
      "source": [
        "Pentru un astfel de set de date, indiferent de modul de inițializare a centroizilor, pentru $ k = 2 $ (numărul potrivit de clustere) gruparea realizată prin algoritmul K-means este diferită de cea naturală.\n"
      ]
    },
    {
      "cell_type": "code",
      "execution_count": null,
      "metadata": {
        "colab": {
          "base_uri": "https://localhost:8080/",
          "height": 383
        },
        "id": "KsI-m3rBM8ef",
        "outputId": "e21b7264-eb9c-41bc-e43e-bde4a378eaa7"
      },
      "outputs": [
        {
          "data": {
            "text/html": [
              "\n",
              "    <style>\n",
              "        #ipyplot-html-viewer-toggle-aNPRMscn9AYc53hy6nz9VV {\n",
              "            position: absolute;\n",
              "            top: -9999px;\n",
              "            left: -9999px;\n",
              "            visibility: hidden;\n",
              "        }\n",
              "\n",
              "        #ipyplot-html-viewer-label-aNPRMscn9AYc53hy6nz9VV { \n",
              "            position: relative;\n",
              "            display: inline-block;\n",
              "            cursor: pointer;\n",
              "            color: blue;\n",
              "            text-decoration: underline;\n",
              "        }\n",
              "\n",
              "        #ipyplot-html-viewer-textarea-aNPRMscn9AYc53hy6nz9VV {\n",
              "            background: lightgrey;\n",
              "            width: 100%;\n",
              "            height: 0px;\n",
              "            display: none;\n",
              "        }\n",
              "\n",
              "        #ipyplot-html-viewer-toggle-aNPRMscn9AYc53hy6nz9VV:checked ~ #ipyplot-html-viewer-textarea-aNPRMscn9AYc53hy6nz9VV {\n",
              "            height: 200px;\n",
              "            display: block;\n",
              "        }\n",
              "\n",
              "        #ipyplot-html-viewer-toggle-aNPRMscn9AYc53hy6nz9VV:checked + #ipyplot-html-viewer-label-aNPRMscn9AYc53hy6nz9VV:after {\n",
              "            content: \"hide html\";\n",
              "            position: absolute;\n",
              "            top: 0;\n",
              "            left: 0;\n",
              "            right: 0;\n",
              "            bottom: 0;\n",
              "            background: white;\n",
              "            cursor: pointer;\n",
              "            color: blue;\n",
              "            text-decoration: underline;\n",
              "        }\n",
              "    </style>\n",
              "    <div>\n",
              "        <input type=\"checkbox\" id=\"ipyplot-html-viewer-toggle-aNPRMscn9AYc53hy6nz9VV\">\n",
              "        <label id=\"ipyplot-html-viewer-label-aNPRMscn9AYc53hy6nz9VV\" for=\"ipyplot-html-viewer-toggle-aNPRMscn9AYc53hy6nz9VV\">show html</label>\n",
              "        <textarea id=\"ipyplot-html-viewer-textarea-aNPRMscn9AYc53hy6nz9VV\" readonly>\n",
              "            \n",
              "        <style>\n",
              "        #ipyplot-imgs-container-div-5S3t6MGzJimdBvTcEWwJ47 {\n",
              "            width: 100%;\n",
              "            height: 100%;\n",
              "            margin: 0%;\n",
              "            overflow: auto;\n",
              "            position: relative;\n",
              "            overflow-y: scroll;\n",
              "        }\n",
              "\n",
              "        div.ipyplot-placeholder-div-5S3t6MGzJimdBvTcEWwJ47 {\n",
              "            width: 300px;\n",
              "            display: inline-block;\n",
              "            margin: 3px;\n",
              "            position: relative;\n",
              "        }\n",
              "\n",
              "        div.ipyplot-content-div-5S3t6MGzJimdBvTcEWwJ47 {\n",
              "            width: 300px;\n",
              "            background: white;\n",
              "            display: inline-block;\n",
              "            vertical-align: top;\n",
              "            text-align: center;\n",
              "            position: relative;\n",
              "            border: 2px solid #ddd;\n",
              "            top: 0;\n",
              "            left: 0;\n",
              "        }\n",
              "\n",
              "        div.ipyplot-content-div-5S3t6MGzJimdBvTcEWwJ47 span.ipyplot-img-close {\n",
              "            display: none;\n",
              "        }\n",
              "\n",
              "        div.ipyplot-content-div-5S3t6MGzJimdBvTcEWwJ47 span {\n",
              "            width: 100%;\n",
              "            height: 100%;\n",
              "            position: absolute;\n",
              "            top: 0;\n",
              "            left: 0;\n",
              "        }\n",
              "\n",
              "        div.ipyplot-content-div-5S3t6MGzJimdBvTcEWwJ47 img {\n",
              "            width: 300px;\n",
              "        }\n",
              "\n",
              "        div.ipyplot-content-div-5S3t6MGzJimdBvTcEWwJ47 span.ipyplot-img-close:hover {\n",
              "            cursor: zoom-out;\n",
              "        }\n",
              "        div.ipyplot-content-div-5S3t6MGzJimdBvTcEWwJ47 span.ipyplot-img-expand:hover {\n",
              "            cursor: zoom-in;\n",
              "        }\n",
              "\n",
              "        div[id^=ipyplot-content-div-5S3t6MGzJimdBvTcEWwJ47]:target {\n",
              "            transform: scale(2.5);\n",
              "            transform-origin: left top;\n",
              "            z-index: 5000;\n",
              "            top: 0;\n",
              "            left: 0;\n",
              "            position: absolute;\n",
              "        }\n",
              "\n",
              "        div[id^=ipyplot-content-div-5S3t6MGzJimdBvTcEWwJ47]:target span.ipyplot-img-close {\n",
              "            display: block;\n",
              "        }\n",
              "\n",
              "        div[id^=ipyplot-content-div-5S3t6MGzJimdBvTcEWwJ47]:target span.ipyplot-img-expand {\n",
              "            display: none;\n",
              "        }\n",
              "        </style>\n",
              "    <div id=\"ipyplot-imgs-container-div-5S3t6MGzJimdBvTcEWwJ47\">\n",
              "    <div class=\"ipyplot-placeholder-div-5S3t6MGzJimdBvTcEWwJ47\">\n",
              "        <div id=\"ipyplot-content-div-5S3t6MGzJimdBvTcEWwJ47-SYcgbmw5H5TgNVwHSHi48H\" class=\"ipyplot-content-div-5S3t6MGzJimdBvTcEWwJ47\">\n",
              "            <h4 style=\"font-size: 12px; word-wrap: break-word;\">non-convex</h4>\n",
              "            <img src=\"data:image/png;base64,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\"/>\n",
              "            <a href=\"#!\">\n",
              "                <span class=\"ipyplot-img-close\"/>\n",
              "            </a>\n",
              "            <a href=\"#ipyplot-content-div-5S3t6MGzJimdBvTcEWwJ47-SYcgbmw5H5TgNVwHSHi48H\">\n",
              "                <span class=\"ipyplot-img-expand\"/>\n",
              "            </a>\n",
              "        </div>\n",
              "    </div>\n",
              "    </div>\n",
              "        </textarea>\n",
              "    </div>\n",
              "    "
            ],
            "text/plain": [
              "<IPython.core.display.HTML object>"
            ]
          },
          "metadata": {},
          "output_type": "display_data"
        },
        {
          "data": {
            "text/html": [
              "\n",
              "        <style>\n",
              "        #ipyplot-imgs-container-div-5S3t6MGzJimdBvTcEWwJ47 {\n",
              "            width: 100%;\n",
              "            height: 100%;\n",
              "            margin: 0%;\n",
              "            overflow: auto;\n",
              "            position: relative;\n",
              "            overflow-y: scroll;\n",
              "        }\n",
              "\n",
              "        div.ipyplot-placeholder-div-5S3t6MGzJimdBvTcEWwJ47 {\n",
              "            width: 300px;\n",
              "            display: inline-block;\n",
              "            margin: 3px;\n",
              "            position: relative;\n",
              "        }\n",
              "\n",
              "        div.ipyplot-content-div-5S3t6MGzJimdBvTcEWwJ47 {\n",
              "            width: 300px;\n",
              "            background: white;\n",
              "            display: inline-block;\n",
              "            vertical-align: top;\n",
              "            text-align: center;\n",
              "            position: relative;\n",
              "            border: 2px solid #ddd;\n",
              "            top: 0;\n",
              "            left: 0;\n",
              "        }\n",
              "\n",
              "        div.ipyplot-content-div-5S3t6MGzJimdBvTcEWwJ47 span.ipyplot-img-close {\n",
              "            display: none;\n",
              "        }\n",
              "\n",
              "        div.ipyplot-content-div-5S3t6MGzJimdBvTcEWwJ47 span {\n",
              "            width: 100%;\n",
              "            height: 100%;\n",
              "            position: absolute;\n",
              "            top: 0;\n",
              "            left: 0;\n",
              "        }\n",
              "\n",
              "        div.ipyplot-content-div-5S3t6MGzJimdBvTcEWwJ47 img {\n",
              "            width: 300px;\n",
              "        }\n",
              "\n",
              "        div.ipyplot-content-div-5S3t6MGzJimdBvTcEWwJ47 span.ipyplot-img-close:hover {\n",
              "            cursor: zoom-out;\n",
              "        }\n",
              "        div.ipyplot-content-div-5S3t6MGzJimdBvTcEWwJ47 span.ipyplot-img-expand:hover {\n",
              "            cursor: zoom-in;\n",
              "        }\n",
              "\n",
              "        div[id^=ipyplot-content-div-5S3t6MGzJimdBvTcEWwJ47]:target {\n",
              "            transform: scale(2.5);\n",
              "            transform-origin: left top;\n",
              "            z-index: 5000;\n",
              "            top: 0;\n",
              "            left: 0;\n",
              "            position: absolute;\n",
              "        }\n",
              "\n",
              "        div[id^=ipyplot-content-div-5S3t6MGzJimdBvTcEWwJ47]:target span.ipyplot-img-close {\n",
              "            display: block;\n",
              "        }\n",
              "\n",
              "        div[id^=ipyplot-content-div-5S3t6MGzJimdBvTcEWwJ47]:target span.ipyplot-img-expand {\n",
              "            display: none;\n",
              "        }\n",
              "        </style>\n",
              "    <div id=\"ipyplot-imgs-container-div-5S3t6MGzJimdBvTcEWwJ47\">\n",
              "    <div class=\"ipyplot-placeholder-div-5S3t6MGzJimdBvTcEWwJ47\">\n",
              "        <div id=\"ipyplot-content-div-5S3t6MGzJimdBvTcEWwJ47-SYcgbmw5H5TgNVwHSHi48H\" class=\"ipyplot-content-div-5S3t6MGzJimdBvTcEWwJ47\">\n",
              "            <h4 style=\"font-size: 12px; word-wrap: break-word;\">non-convex</h4>\n",
              "            <img src=\"data:image/png;base64,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\"/>\n",
              "            <a href=\"#!\">\n",
              "                <span class=\"ipyplot-img-close\"/>\n",
              "            </a>\n",
              "            <a href=\"#ipyplot-content-div-5S3t6MGzJimdBvTcEWwJ47-SYcgbmw5H5TgNVwHSHi48H\">\n",
              "                <span class=\"ipyplot-img-expand\"/>\n",
              "            </a>\n",
              "        </div>\n",
              "    </div>\n",
              "    </div>"
            ],
            "text/plain": [
              "<IPython.core.display.HTML object>"
            ]
          },
          "metadata": {},
          "output_type": "display_data"
        }
      ],
      "source": [
        "frames, centroids, assignment = kmeans(nonconvex_feats,k=2, init_policy='random')\n",
        "plot_final_states([frames[-1]], ['non-convex'])"
      ]
    },
    {
      "cell_type": "markdown",
      "metadata": {
        "id": "pT_9MPX5H69k"
      },
      "source": [
        "#Concluzii\n",
        "❗️***Pro K-means:***\n",
        "* converge rapid în practică\n",
        "* aplicabil pe scară largă\n",
        "* ușor de implementat\n",
        "\n",
        "❗️***Contra K-means:***\n",
        "* sensibil la inițializarea centrozilor\n",
        "* numărul de clustere este predefinit\n",
        "* funcționează prost pe date neconvexe\n",
        "* sensibil la valori aberante\n",
        "\n",
        "Clusterizarea ierarhică este o abordare alternativă la K-means, care nu necesită specificarea numărului de clustere. Ea realizează acest lucru producând o ierarhie de clustere, în loc de una singură. Vă puteți imagina acest lucru gândindu-vă la modul în care lumea noastră este organizată geografic: \n",
        "* mai multe case sunt grupate în localități\n",
        "* mai multe localități formează un județ\n",
        "* mai multe județe formează o țară\n",
        "* mai multe țări formează un continent\n",
        "\n",
        "În funcție de cât de adânc intrăm în această ierarhie, avem o grupare diferită cu un număr diferit de clustere. \n",
        "Algoritmii care implementează o clusterizare ierarhică (***Divisive clustering*** și ***Agglomerative clustering***) au o complexitate mai mare ca timp de execuție și memorie alocată\n"
      ]
    }
  ],
  "metadata": {
    "colab": {
      "collapsed_sections": [
        "BgDKerAFq0zy"
      ],
      "provenance": []
    },
    "kernelspec": {
      "display_name": "Python 3",
      "language": "python",
      "name": "python3"
    },
    "language_info": {
      "codemirror_mode": {
        "name": "ipython",
        "version": 3
      },
      "file_extension": ".py",
      "mimetype": "text/x-python",
      "name": "python",
      "nbconvert_exporter": "python",
      "pygments_lexer": "ipython3",
      "version": "3.10.9 (main, Dec 11 2022, 08:30:53) [GCC 11.3.0]"
    },
    "vscode": {
      "interpreter": {
        "hash": "c17b67eb060c83cbfa0e86e30625c301dd975b1f32d4a5bee1e6651f6805f4ec"
      }
    },
    "widgets": {
      "application/vnd.jupyter.widget-state+json": {
        "0b646dc0e0d047208627aa33b1e5be1c": {
          "model_module": "@jupyter-widgets/base",
          "model_module_version": "1.2.0",
          "model_name": "LayoutModel",
          "state": {
            "_model_module": "@jupyter-widgets/base",
            "_model_module_version": "1.2.0",
            "_model_name": "LayoutModel",
            "_view_count": null,
            "_view_module": "@jupyter-widgets/base",
            "_view_module_version": "1.2.0",
            "_view_name": "LayoutView",
            "align_content": null,
            "align_items": null,
            "align_self": null,
            "border": null,
            "bottom": null,
            "display": null,
            "flex": null,
            "flex_flow": null,
            "grid_area": null,
            "grid_auto_columns": null,
            "grid_auto_flow": null,
            "grid_auto_rows": null,
            "grid_column": null,
            "grid_gap": null,
            "grid_row": null,
            "grid_template_areas": null,
            "grid_template_columns": null,
            "grid_template_rows": null,
            "height": null,
            "justify_content": null,
            "justify_items": null,
            "left": null,
            "margin": null,
            "max_height": null,
            "max_width": null,
            "min_height": null,
            "min_width": null,
            "object_fit": null,
            "object_position": null,
            "order": null,
            "overflow": null,
            "overflow_x": null,
            "overflow_y": null,
            "padding": null,
            "right": null,
            "top": null,
            "visibility": null,
            "width": null
          }
        },
        "12884e5d46604448bbcdb97fece9498c": {
          "model_module": "@jupyter-widgets/controls",
          "model_module_version": "1.5.0",
          "model_name": "VBoxModel",
          "state": {
            "_dom_classes": [
              "widget-interact"
            ],
            "_model_module": "@jupyter-widgets/controls",
            "_model_module_version": "1.5.0",
            "_model_name": "VBoxModel",
            "_view_count": null,
            "_view_module": "@jupyter-widgets/controls",
            "_view_module_version": "1.5.0",
            "_view_name": "VBoxView",
            "box_style": "",
            "children": [
              "IPY_MODEL_4b66735c27134d879627a20184aa3c49",
              "IPY_MODEL_435c209427394655914ee7bd0ba835c4"
            ],
            "layout": "IPY_MODEL_4810533220054266a11a1bd0f63cd0e9"
          }
        },
        "435c209427394655914ee7bd0ba835c4": {
          "model_module": "@jupyter-widgets/output",
          "model_module_version": "1.0.0",
          "model_name": "OutputModel",
          "state": {
            "_dom_classes": [],
            "_model_module": "@jupyter-widgets/output",
            "_model_module_version": "1.0.0",
            "_model_name": "OutputModel",
            "_view_count": null,
            "_view_module": "@jupyter-widgets/output",
            "_view_module_version": "1.0.0",
            "_view_name": "OutputView",
            "layout": "IPY_MODEL_0b646dc0e0d047208627aa33b1e5be1c",
            "msg_id": "",
            "outputs": [
              {
                "data": {
                  "text/html": "\n    <style>\n        #ipyplot-html-viewer-toggle-5Mut7NXgiSovRoq3pnDrDL {\n            position: absolute;\n            top: -9999px;\n            left: -9999px;\n            visibility: hidden;\n        }\n\n        #ipyplot-html-viewer-label-5Mut7NXgiSovRoq3pnDrDL { \n            position: relative;\n            display: inline-block;\n            cursor: pointer;\n            color: blue;\n            text-decoration: underline;\n        }\n\n        #ipyplot-html-viewer-textarea-5Mut7NXgiSovRoq3pnDrDL {\n            background: lightgrey;\n            width: 100%;\n            height: 0px;\n            display: none;\n        }\n\n        #ipyplot-html-viewer-toggle-5Mut7NXgiSovRoq3pnDrDL:checked ~ #ipyplot-html-viewer-textarea-5Mut7NXgiSovRoq3pnDrDL {\n            height: 200px;\n            display: block;\n        }\n\n        #ipyplot-html-viewer-toggle-5Mut7NXgiSovRoq3pnDrDL:checked + #ipyplot-html-viewer-label-5Mut7NXgiSovRoq3pnDrDL:after {\n            content: \"hide html\";\n            position: absolute;\n            top: 0;\n            left: 0;\n            right: 0;\n            bottom: 0;\n            background: white;\n            cursor: pointer;\n            color: blue;\n            text-decoration: underline;\n        }\n    </style>\n    <div>\n        <input type=\"checkbox\" id=\"ipyplot-html-viewer-toggle-5Mut7NXgiSovRoq3pnDrDL\">\n        <label id=\"ipyplot-html-viewer-label-5Mut7NXgiSovRoq3pnDrDL\" for=\"ipyplot-html-viewer-toggle-5Mut7NXgiSovRoq3pnDrDL\">show html</label>\n        <textarea id=\"ipyplot-html-viewer-textarea-5Mut7NXgiSovRoq3pnDrDL\" readonly>\n            \n        <style>\n        #ipyplot-imgs-container-div-mJnHcuZoC3CS3U9r8BLGLn {\n            width: 100%;\n            height: 100%;\n            margin: 0%;\n            overflow: auto;\n            position: relative;\n            overflow-y: scroll;\n        }\n\n        div.ipyplot-placeholder-div-mJnHcuZoC3CS3U9r8BLGLn {\n            width: 300px;\n            display: inline-block;\n            margin: 3px;\n            position: relative;\n        }\n\n        div.ipyplot-content-div-mJnHcuZoC3CS3U9r8BLGLn {\n            width: 300px;\n            background: white;\n            display: inline-block;\n            vertical-align: top;\n            text-align: center;\n            position: relative;\n            border: 2px solid #ddd;\n            top: 0;\n            left: 0;\n        }\n\n        div.ipyplot-content-div-mJnHcuZoC3CS3U9r8BLGLn span.ipyplot-img-close {\n            display: none;\n        }\n\n        div.ipyplot-content-div-mJnHcuZoC3CS3U9r8BLGLn span {\n            width: 100%;\n            height: 100%;\n            position: absolute;\n            top: 0;\n            left: 0;\n        }\n\n        div.ipyplot-content-div-mJnHcuZoC3CS3U9r8BLGLn img {\n            width: 300px;\n        }\n\n        div.ipyplot-content-div-mJnHcuZoC3CS3U9r8BLGLn span.ipyplot-img-close:hover {\n            cursor: zoom-out;\n        }\n        div.ipyplot-content-div-mJnHcuZoC3CS3U9r8BLGLn span.ipyplot-img-expand:hover {\n            cursor: zoom-in;\n        }\n\n        div[id^=ipyplot-content-div-mJnHcuZoC3CS3U9r8BLGLn]:target {\n            transform: scale(2.5);\n            transform-origin: left top;\n            z-index: 5000;\n            top: 0;\n            left: 0;\n            position: absolute;\n        }\n\n        div[id^=ipyplot-content-div-mJnHcuZoC3CS3U9r8BLGLn]:target span.ipyplot-img-close {\n            display: block;\n        }\n\n        div[id^=ipyplot-content-div-mJnHcuZoC3CS3U9r8BLGLn]:target span.ipyplot-img-expand {\n            display: none;\n        }\n        </style>\n    <div id=\"ipyplot-imgs-container-div-mJnHcuZoC3CS3U9r8BLGLn\">\n    <div class=\"ipyplot-placeholder-div-mJnHcuZoC3CS3U9r8BLGLn\">\n        <div id=\"ipyplot-content-div-mJnHcuZoC3CS3U9r8BLGLn-MZspEyAYi3kWaihkRNUvr8\" class=\"ipyplot-content-div-mJnHcuZoC3CS3U9r8BLGLn\">\n            <h4 style=\"font-size: 12px; word-wrap: break-word;\">Iteration: 3</h4>\n            <img src=\"data:image/png;base64,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\"/>\n            <a href=\"#!\">\n                <span class=\"ipyplot-img-close\"/>\n            </a>\n            <a href=\"#ipyplot-content-div-mJnHcuZoC3CS3U9r8BLGLn-MZspEyAYi3kWaihkRNUvr8\">\n                <span class=\"ipyplot-img-expand\"/>\n            </a>\n        </div>\n    </div>\n    </div>\n        </textarea>\n    </div>\n    ",
                  "text/plain": "<IPython.core.display.HTML object>"
                },
                "metadata": {},
                "output_type": "display_data"
              },
              {
                "data": {
                  "text/html": "\n        <style>\n        #ipyplot-imgs-container-div-mJnHcuZoC3CS3U9r8BLGLn {\n            width: 100%;\n            height: 100%;\n            margin: 0%;\n            overflow: auto;\n            position: relative;\n            overflow-y: scroll;\n        }\n\n        div.ipyplot-placeholder-div-mJnHcuZoC3CS3U9r8BLGLn {\n            width: 300px;\n            display: inline-block;\n            margin: 3px;\n            position: relative;\n        }\n\n        div.ipyplot-content-div-mJnHcuZoC3CS3U9r8BLGLn {\n            width: 300px;\n            background: white;\n            display: inline-block;\n            vertical-align: top;\n            text-align: center;\n            position: relative;\n            border: 2px solid #ddd;\n            top: 0;\n            left: 0;\n        }\n\n        div.ipyplot-content-div-mJnHcuZoC3CS3U9r8BLGLn span.ipyplot-img-close {\n            display: none;\n        }\n\n        div.ipyplot-content-div-mJnHcuZoC3CS3U9r8BLGLn span {\n            width: 100%;\n            height: 100%;\n            position: absolute;\n            top: 0;\n            left: 0;\n        }\n\n        div.ipyplot-content-div-mJnHcuZoC3CS3U9r8BLGLn img {\n            width: 300px;\n        }\n\n        div.ipyplot-content-div-mJnHcuZoC3CS3U9r8BLGLn span.ipyplot-img-close:hover {\n            cursor: zoom-out;\n        }\n        div.ipyplot-content-div-mJnHcuZoC3CS3U9r8BLGLn span.ipyplot-img-expand:hover {\n            cursor: zoom-in;\n        }\n\n        div[id^=ipyplot-content-div-mJnHcuZoC3CS3U9r8BLGLn]:target {\n            transform: scale(2.5);\n            transform-origin: left top;\n            z-index: 5000;\n            top: 0;\n            left: 0;\n            position: absolute;\n        }\n\n        div[id^=ipyplot-content-div-mJnHcuZoC3CS3U9r8BLGLn]:target span.ipyplot-img-close {\n            display: block;\n        }\n\n        div[id^=ipyplot-content-div-mJnHcuZoC3CS3U9r8BLGLn]:target span.ipyplot-img-expand {\n            display: none;\n        }\n        </style>\n    <div id=\"ipyplot-imgs-container-div-mJnHcuZoC3CS3U9r8BLGLn\">\n    <div class=\"ipyplot-placeholder-div-mJnHcuZoC3CS3U9r8BLGLn\">\n        <div id=\"ipyplot-content-div-mJnHcuZoC3CS3U9r8BLGLn-MZspEyAYi3kWaihkRNUvr8\" class=\"ipyplot-content-div-mJnHcuZoC3CS3U9r8BLGLn\">\n            <h4 style=\"font-size: 12px; word-wrap: break-word;\">Iteration: 3</h4>\n            <img src=\"data:image/png;base64,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\"/>\n            <a href=\"#!\">\n                <span class=\"ipyplot-img-close\"/>\n            </a>\n            <a href=\"#ipyplot-content-div-mJnHcuZoC3CS3U9r8BLGLn-MZspEyAYi3kWaihkRNUvr8\">\n                <span class=\"ipyplot-img-expand\"/>\n            </a>\n        </div>\n    </div>\n    </div>",
                  "text/plain": "<IPython.core.display.HTML object>"
                },
                "metadata": {},
                "output_type": "display_data"
              }
            ]
          }
        },
        "4810533220054266a11a1bd0f63cd0e9": {
          "model_module": "@jupyter-widgets/base",
          "model_module_version": "1.2.0",
          "model_name": "LayoutModel",
          "state": {
            "_model_module": "@jupyter-widgets/base",
            "_model_module_version": "1.2.0",
            "_model_name": "LayoutModel",
            "_view_count": null,
            "_view_module": "@jupyter-widgets/base",
            "_view_module_version": "1.2.0",
            "_view_name": "LayoutView",
            "align_content": null,
            "align_items": null,
            "align_self": null,
            "border": null,
            "bottom": null,
            "display": null,
            "flex": null,
            "flex_flow": null,
            "grid_area": null,
            "grid_auto_columns": null,
            "grid_auto_flow": null,
            "grid_auto_rows": null,
            "grid_column": null,
            "grid_gap": null,
            "grid_row": null,
            "grid_template_areas": null,
            "grid_template_columns": null,
            "grid_template_rows": null,
            "height": null,
            "justify_content": null,
            "justify_items": null,
            "left": null,
            "margin": null,
            "max_height": null,
            "max_width": null,
            "min_height": null,
            "min_width": null,
            "object_fit": null,
            "object_position": null,
            "order": null,
            "overflow": null,
            "overflow_x": null,
            "overflow_y": null,
            "padding": null,
            "right": null,
            "top": null,
            "visibility": null,
            "width": null
          }
        },
        "4b66735c27134d879627a20184aa3c49": {
          "model_module": "@jupyter-widgets/controls",
          "model_module_version": "1.5.0",
          "model_name": "IntSliderModel",
          "state": {
            "_dom_classes": [],
            "_model_module": "@jupyter-widgets/controls",
            "_model_module_version": "1.5.0",
            "_model_name": "IntSliderModel",
            "_view_count": null,
            "_view_module": "@jupyter-widgets/controls",
            "_view_module_version": "1.5.0",
            "_view_name": "IntSliderView",
            "continuous_update": true,
            "description": "iter",
            "description_tooltip": null,
            "disabled": false,
            "layout": "IPY_MODEL_55ab19fbc9534f22a7a31dff888f3c5b",
            "max": 3,
            "min": 0,
            "orientation": "horizontal",
            "readout": true,
            "readout_format": "d",
            "step": 1,
            "style": "IPY_MODEL_b88deabf480d4e129cd092bda81352b4",
            "value": 3
          }
        },
        "55ab19fbc9534f22a7a31dff888f3c5b": {
          "model_module": "@jupyter-widgets/base",
          "model_module_version": "1.2.0",
          "model_name": "LayoutModel",
          "state": {
            "_model_module": "@jupyter-widgets/base",
            "_model_module_version": "1.2.0",
            "_model_name": "LayoutModel",
            "_view_count": null,
            "_view_module": "@jupyter-widgets/base",
            "_view_module_version": "1.2.0",
            "_view_name": "LayoutView",
            "align_content": null,
            "align_items": null,
            "align_self": null,
            "border": null,
            "bottom": null,
            "display": null,
            "flex": null,
            "flex_flow": null,
            "grid_area": null,
            "grid_auto_columns": null,
            "grid_auto_flow": null,
            "grid_auto_rows": null,
            "grid_column": null,
            "grid_gap": null,
            "grid_row": null,
            "grid_template_areas": null,
            "grid_template_columns": null,
            "grid_template_rows": null,
            "height": null,
            "justify_content": null,
            "justify_items": null,
            "left": null,
            "margin": null,
            "max_height": null,
            "max_width": null,
            "min_height": null,
            "min_width": null,
            "object_fit": null,
            "object_position": null,
            "order": null,
            "overflow": null,
            "overflow_x": null,
            "overflow_y": null,
            "padding": null,
            "right": null,
            "top": null,
            "visibility": null,
            "width": null
          }
        },
        "b88deabf480d4e129cd092bda81352b4": {
          "model_module": "@jupyter-widgets/controls",
          "model_module_version": "1.5.0",
          "model_name": "SliderStyleModel",
          "state": {
            "_model_module": "@jupyter-widgets/controls",
            "_model_module_version": "1.5.0",
            "_model_name": "SliderStyleModel",
            "_view_count": null,
            "_view_module": "@jupyter-widgets/base",
            "_view_module_version": "1.2.0",
            "_view_name": "StyleView",
            "description_width": "",
            "handle_color": null
          }
        }
      }
    }
  },
  "nbformat": 4,
  "nbformat_minor": 0
}
